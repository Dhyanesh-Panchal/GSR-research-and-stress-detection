{
 "cells": [
  {
   "cell_type": "markdown",
   "metadata": {},
   "source": [
    "# Notes"
   ]
  },
  {
   "cell_type": "markdown",
   "metadata": {},
   "source": [
    "- It is clear that this will require some math knowledge and Concepts of signal processing.\n",
    "\n"
   ]
  },
  {
   "cell_type": "markdown",
   "metadata": {},
   "source": [
    "## Signal processing"
   ]
  },
  {
   "cell_type": "markdown",
   "metadata": {},
   "source": [
    "Intro video: https://youtu.be/jnxqHcObNK4?si=9KShgg3t2WxjHjZG  (**Foundation for wavelet**)\n",
    "\n",
    "- Many times actual data/patterns are hidden behing thee Noise of a time series\n",
    "- Hence Different types of **wavelet transforms** are used to pull out the features/data from the noisy raw.\n",
    "    - One of the time-frequency features extracted in our work is Continuous Wavelet Transform (CWT) to decompose the phasic GSR signal into wavelets."
   ]
  },
  {
   "cell_type": "markdown",
   "metadata": {},
   "source": [
    "---\n",
    "#### Frequency and Time\n",
    "\n",
    "Frequency can be sub-categorised as high and low => which in case of GSR readings, map to *phasic* and *tonic* components of GSR-time series.\n",
    "\n",
    "- *Phasic Component*:\n",
    "    - It is related to Fast changes of the data.\n",
    "    - The phasic component is responsible for *skin conductance responses (SCRs)*, which are relatively fast variations in the GSR signal (order of seconds).\n",
    "    - SCRs are the fast changes or peaks that can be seen.\n",
    "        - SCRs can be divided into two:\n",
    "            1.  event-related SCR (ER-SCR)\n",
    "            2.  non-specific SCR (NS-SCR).\n",
    "        - ER-SCRs can be created in reaction to a specific event and they are the most frequent measure for relating changes in emotional arousal to particular stimuli in researches.\n",
    "        - *The apparent variation in ER-SCRs is SCR peaks that happen between 1 and 5 seconds after emotional stimuli begin.*\n",
    "- *Tonic Component*:\n",
    "    - The tonic component in a GSR signal is typically considered to be the background level of activity on top of which fast GSR responses emerge.\n",
    "    - Individuals' baseline tonic levels vary greatly, often ranging from 2µS to 20µS.\n"
   ]
  },
  {
   "cell_type": "markdown",
   "metadata": {},
   "source": [
    "---\n",
    "\n",
    "#### Fourier Transform\n",
    "\n",
    "- With the help of FT we can destructure or we can say, pull out the underlying frequencies of the Time series.\n",
    "- But it is seen that after applying the FT, **All the Data related to Time is loss**(Better described in the video).\n",
    "- **Wavelet Transforms** are the intermediate things which preserves some features of time as well as frequency domain. \n"
   ]
  },
  {
   "cell_type": "code",
   "execution_count": null,
   "metadata": {},
   "outputs": [],
   "source": []
  }
 ],
 "metadata": {
  "language_info": {
   "name": "python"
  },
  "orig_nbformat": 4
 },
 "nbformat": 4,
 "nbformat_minor": 2
}
