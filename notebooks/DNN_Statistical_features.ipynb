{
  "cells": [
    {
      "cell_type": "markdown",
      "metadata": {
        "colab_type": "text",
        "id": "view-in-github"
      },
      "source": [
        "<a href=\"https://colab.research.google.com/github/Dhyanesh-Panchal/GSR-research-and-stress-detection/blob/master/notebooks/DNN_Statistical_features.ipynb\" target=\"_parent\"><img src=\"https://colab.research.google.com/assets/colab-badge.svg\" alt=\"Open In Colab\"/></a>"
      ]
    },
    {
      "cell_type": "code",
      "execution_count": 15,
      "metadata": {
        "colab": {
          "base_uri": "https://localhost:8080/"
        },
        "id": "buvl0x3_NWFo",
        "outputId": "94114044-172f-474c-e612-1b4a68636dbe"
      },
      "outputs": [
        {
          "name": "stdout",
          "output_type": "stream",
          "text": [
            "Collecting keras-tuner\n",
            "  Downloading keras_tuner-1.4.7-py3-none-any.whl (129 kB)\n",
            "\u001b[2K     \u001b[90m━━━━━━━━━━━━━━━━━━━━━━━━━━━━━━━━━━━━━━━━\u001b[0m \u001b[32m129.1/129.1 kB\u001b[0m \u001b[31m3.1 MB/s\u001b[0m eta \u001b[36m0:00:00\u001b[0m\n",
            "\u001b[?25hRequirement already satisfied: keras in /usr/local/lib/python3.10/dist-packages (from keras-tuner) (2.15.0)\n",
            "Requirement already satisfied: packaging in /usr/local/lib/python3.10/dist-packages (from keras-tuner) (24.0)\n",
            "Requirement already satisfied: requests in /usr/local/lib/python3.10/dist-packages (from keras-tuner) (2.31.0)\n",
            "Collecting kt-legacy (from keras-tuner)\n",
            "  Downloading kt_legacy-1.0.5-py3-none-any.whl (9.6 kB)\n",
            "Requirement already satisfied: charset-normalizer<4,>=2 in /usr/local/lib/python3.10/dist-packages (from requests->keras-tuner) (3.3.2)\n",
            "Requirement already satisfied: idna<4,>=2.5 in /usr/local/lib/python3.10/dist-packages (from requests->keras-tuner) (3.7)\n",
            "Requirement already satisfied: urllib3<3,>=1.21.1 in /usr/local/lib/python3.10/dist-packages (from requests->keras-tuner) (2.0.7)\n",
            "Requirement already satisfied: certifi>=2017.4.17 in /usr/local/lib/python3.10/dist-packages (from requests->keras-tuner) (2024.2.2)\n",
            "Installing collected packages: kt-legacy, keras-tuner\n",
            "Successfully installed keras-tuner-1.4.7 kt-legacy-1.0.5\n"
          ]
        }
      ],
      "source": [
        "!pip install keras-tuner"
      ]
    },
    {
      "cell_type": "code",
      "execution_count": 1,
      "metadata": {
        "id": "2j1s68RrJMuN"
      },
      "outputs": [],
      "source": [
        "import pandas as pd\n",
        "import numpy as np\n",
        "from tqdm.notebook import tqdm\n",
        "from sklearn.metrics import ConfusionMatrixDisplay,confusion_matrix,classification_report,accuracy_score\n",
        "from sklearn.model_selection import train_test_split\n",
        "from sklearn.preprocessing import StandardScaler, LabelEncoder\n",
        "\n",
        "\n",
        "import tensorflow as tf\n",
        "from tensorflow.keras.models import Sequential\n",
        "from tensorflow.keras.layers import Dense, Flatten, BatchNormalization, Dropout\n",
        "from tensorflow.keras.regularizers import l2\n",
        "from tensorflow.keras.optimizers import Adam\n",
        "from tensorflow.keras.callbacks import EarlyStopping\n",
        "from keras_tuner import HyperParameters"
      ]
    },
    {
      "cell_type": "code",
      "execution_count": 4,
      "metadata": {
        "id": "6POi1K2KJMuO"
      },
      "outputs": [],
      "source": [
        "def prepare_statistical_two_class_df():\n",
        "  data_df = pd.read_csv(\"https://raw.githubusercontent.com/Dhyanesh-Panchal/GSR-research-and-stress-detection/master/statistical_features_over_window/sub_1_w100_g1.csv\").drop(\"Unnamed: 0\",axis=1)\n",
        "  for i in tqdm(range(2,31)):\n",
        "    df = pd.read_csv(f\"https://raw.githubusercontent.com/Dhyanesh-Panchal/GSR-research-and-stress-detection/master/statistical_features_over_window/sub_{i}_w100_g1.csv\").drop(\"Unnamed: 0\",axis=1)\n",
        "    data_df = pd.concat([data_df,df],axis=0)\n",
        "  filtered_data = data_df[(data_df[\"arousal\"]!=5) & (data_df[\"valence\"]!=5)]\n",
        "  filtered_data = filtered_data.reset_index().drop(\"index\",axis=1)\n",
        "  data_2_class = filtered_data.drop([\"class_4\",\"arousal\",\"valence\"],axis=1)\n",
        "  data_4_class = filtered_data.drop([\"class_2_arousal\",\"arousal\",\"valence\"],axis=1)\n",
        "  data_2_class_encoded = pd.get_dummies(data_2_class,columns=[\"class_2_arousal\"])\n",
        "\n",
        "\n",
        "  return data_2_class.drop(\"class_2_arousal\",axis=1) , data_2_class[\"class_2_arousal\"]"
      ]
    },
    {
      "cell_type": "code",
      "execution_count": 27,
      "metadata": {
        "colab": {
          "base_uri": "https://localhost:8080/",
          "height": 49,
          "referenced_widgets": [
            "0b29ee52505840d1b02f3c7a9336ab63",
            "bb8e9ae611c94537acd10730b54fcfbc",
            "59e56df363b84c81be14eb10edb29c54",
            "19e50d48ccff413e98f68725b6e9564c",
            "9d478c9e6bb842f7a16d94e897d6b7d3",
            "5e347139e3d74381b6871546c60461a7",
            "dd4ab737b4f04293bdb9d97e3c14cd99",
            "03b8bf1085664bee94a3d387d2517b0e",
            "c07ad87073e546739d9b6ef2e470e731",
            "94bc2e5577774e18a7bf445da5293a9a",
            "760058f7af0b4c6c98d34c3f406c9bcf"
          ]
        },
        "id": "KTjkhY-CJS39",
        "outputId": "073e0d3f-709d-43c6-bec0-67d42c4d5c55"
      },
      "outputs": [
        {
          "data": {
            "application/vnd.jupyter.widget-view+json": {
              "model_id": "0b29ee52505840d1b02f3c7a9336ab63",
              "version_major": 2,
              "version_minor": 0
            },
            "text/plain": [
              "  0%|          | 0/29 [00:00<?, ?it/s]"
            ]
          },
          "metadata": {},
          "output_type": "display_data"
        }
      ],
      "source": [
        "X,y = prepare_statistical_two_class_df()"
      ]
    },
    {
      "cell_type": "code",
      "execution_count": 30,
      "metadata": {
        "id": "3rnXdjapSMWC"
      },
      "outputs": [],
      "source": [
        "# Normalize the features\n",
        "scaler = StandardScaler()\n",
        "X_scaled = scaler.fit_transform(X)\n",
        "\n",
        "# Encode the categorical labels\n",
        "encoder = LabelEncoder()\n",
        "y_encoded = encoder.fit_transform(y)  # Converts 'L' and 'H' to 0 and 1"
      ]
    },
    {
      "cell_type": "code",
      "execution_count": null,
      "metadata": {
        "id": "SCooGfKKKtte"
      },
      "outputs": [],
      "source": [
        "train_X,test_X,train_Y,test_Y = train_test_split(X_scaled , y_encoded , test_size=0.2)"
      ]
    },
    {
      "cell_type": "code",
      "execution_count": 42,
      "metadata": {
        "id": "lUW6W08DLeEG"
      },
      "outputs": [],
      "source": [
        "# Define the model architecture\n",
        "model = tf.keras.Sequential(\n",
        "    [\n",
        "        tf.keras.layers.Dense(\n",
        "            256, activation=\"relu\", input_shape=train_X.shape[1:]\n",
        "        ),  # Use full shape for flexibility\n",
        "        tf.keras.layers.Dropout(0.5),\n",
        "        tf.keras.layers.Dense(128, activation=\"relu\"),\n",
        "        tf.keras.layers.Dropout(0.4),\n",
        "        tf.keras.layers.Dense(64, activation=\"relu\"),\n",
        "        tf.keras.layers.Dropout(0.3),\n",
        "        tf.keras.layers.Dense(32, activation=\"relu\"),\n",
        "        tf.keras.layers.Dropout(0.2),\n",
        "        tf.keras.layers.Dense(\n",
        "            1, activation=\"sigmoid\"\n",
        "        ),  # Sigmoid for binary classification\n",
        "    ]\n",
        ")"
      ]
    },
    {
      "cell_type": "code",
      "execution_count": 43,
      "metadata": {
        "id": "2EsgQOKsSsE0"
      },
      "outputs": [],
      "source": [
        "# Compile the model\n",
        "model.compile(optimizer=Adam(learning_rate=0.001),\n",
        "              loss='binary_crossentropy',\n",
        "              metrics=['accuracy'])"
      ]
    },
    {
      "cell_type": "code",
      "execution_count": 44,
      "metadata": {
        "colab": {
          "base_uri": "https://localhost:8080/"
        },
        "id": "DzPdWPkLMowT",
        "outputId": "00e13863-a8df-464a-ea88-c79f459fc316"
      },
      "outputs": [
        {
          "name": "stdout",
          "output_type": "stream",
          "text": [
            "Epoch 1/10\n",
            "16610/16610 [==============================] - 75s 4ms/step - loss: 0.6529 - accuracy: 0.5885 - val_loss: 0.6423 - val_accuracy: 0.6012\n",
            "Epoch 2/10\n",
            "16610/16610 [==============================] - 77s 5ms/step - loss: 0.6472 - accuracy: 0.5944 - val_loss: 0.6430 - val_accuracy: 0.5920\n",
            "Epoch 3/10\n",
            "16610/16610 [==============================] - 75s 5ms/step - loss: 0.6458 - accuracy: 0.5969 - val_loss: 0.6384 - val_accuracy: 0.6136\n",
            "Epoch 4/10\n",
            "16610/16610 [==============================] - 77s 5ms/step - loss: 0.6445 - accuracy: 0.6022 - val_loss: 0.6381 - val_accuracy: 0.6149\n",
            "Epoch 5/10\n",
            "16610/16610 [==============================] - 74s 4ms/step - loss: 0.6436 - accuracy: 0.6056 - val_loss: 0.6395 - val_accuracy: 0.6118\n",
            "Epoch 6/10\n",
            "16610/16610 [==============================] - 76s 5ms/step - loss: 0.6427 - accuracy: 0.6084 - val_loss: 0.6392 - val_accuracy: 0.6124\n",
            "Epoch 7/10\n",
            "16610/16610 [==============================] - 75s 5ms/step - loss: 0.6422 - accuracy: 0.6096 - val_loss: 0.6357 - val_accuracy: 0.6140\n",
            "Epoch 8/10\n",
            "16610/16610 [==============================] - 74s 4ms/step - loss: 0.6421 - accuracy: 0.6103 - val_loss: 0.6359 - val_accuracy: 0.6164\n",
            "Epoch 9/10\n",
            "16610/16610 [==============================] - 75s 5ms/step - loss: 0.6419 - accuracy: 0.6093 - val_loss: 0.6364 - val_accuracy: 0.6207\n",
            "Epoch 10/10\n",
            "16610/16610 [==============================] - 74s 4ms/step - loss: 0.6417 - accuracy: 0.6108 - val_loss: 0.6342 - val_accuracy: 0.6224\n"
          ]
        }
      ],
      "source": [
        "fitting = model.fit(train_X, train_Y,\n",
        "                    validation_split=0.2,\n",
        "                    epochs=10)"
      ]
    },
    {
      "cell_type": "code",
      "execution_count": 45,
      "metadata": {
        "id": "ADfl_6MdN0H4"
      },
      "outputs": [],
      "source": [
        "model.save_weights('DNN_statistical_clean_WEIGHTS.h5')"
      ]
    },
    {
      "cell_type": "code",
      "execution_count": 48,
      "metadata": {
        "colab": {
          "base_uri": "https://localhost:8080/"
        },
        "id": "33-SZPeKg2T2",
        "outputId": "4289973d-ee23-4e76-bd52-ae74ba1a84fc"
      },
      "outputs": [
        {
          "name": "stdout",
          "output_type": "stream",
          "text": [
            "1093/1093 [==============================] - 2s 2ms/step\n"
          ]
        }
      ],
      "source": [
        "# Predict probabilities\n",
        "probabilities = model.predict(test_X)\n",
        "\n",
        "# Convert probabilities to class labels\n",
        "predictions = (probabilities > 0.5).astype(int)"
      ]
    },
    {
      "cell_type": "code",
      "execution_count": 50,
      "metadata": {
        "colab": {
          "base_uri": "https://localhost:8080/"
        },
        "id": "kM_4HWAwhOD_",
        "outputId": "1ccdece2-91d5-46a5-f05a-d2efe1e6b208"
      },
      "outputs": [
        {
          "name": "stdout",
          "output_type": "stream",
          "text": [
            "Confusion Matrix:\n",
            "[[13569  6350]\n",
            " [ 6788  8260]]\n"
          ]
        }
      ],
      "source": [
        "# Generate the confusion matrix\n",
        "conf_matrix = confusion_matrix(test_Y, predictions)\n",
        "print(\"Confusion Matrix:\")\n",
        "print(conf_matrix)"
      ]
    },
    {
      "cell_type": "code",
      "execution_count": 52,
      "metadata": {
        "colab": {
          "base_uri": "https://localhost:8080/"
        },
        "id": "EIa5Yq6dhU7A",
        "outputId": "ca5b3ee6-285f-4df7-f669-d7592600d617"
      },
      "outputs": [
        {
          "name": "stdout",
          "output_type": "stream",
          "text": [
            "Classification Report:\n",
            "              precision    recall  f1-score   support\n",
            "\n",
            "     Class 0       0.67      0.68      0.67     19919\n",
            "     Class 1       0.57      0.55      0.56     15048\n",
            "\n",
            "    accuracy                           0.62     34967\n",
            "   macro avg       0.62      0.62      0.62     34967\n",
            "weighted avg       0.62      0.62      0.62     34967\n",
            "\n"
          ]
        }
      ],
      "source": [
        "# Generate the classification report\n",
        "class_report = classification_report(test_Y, predictions, target_names=['Class 0', 'Class 1'])\n",
        "print(\"Classification Report:\")\n",
        "print(class_report)"
      ]
    }
  ],
  "metadata": {
    "accelerator": "GPU",
    "colab": {
      "gpuType": "T4",
      "include_colab_link": true,
      "provenance": []
    },
    "kernelspec": {
      "display_name": "Python 3",
      "name": "python3"
    },
    "language_info": {
      "codemirror_mode": {
        "name": "ipython",
        "version": 3
      },
      "file_extension": ".py",
      "mimetype": "text/x-python",
      "name": "python",
      "nbconvert_exporter": "python",
      "pygments_lexer": "ipython3",
      "version": "3.11.2"
    },
    "widgets": {
      "application/vnd.jupyter.widget-state+json": {
        "03b8bf1085664bee94a3d387d2517b0e": {
          "model_module": "@jupyter-widgets/base",
          "model_module_version": "1.2.0",
          "model_name": "LayoutModel",
          "state": {
            "_model_module": "@jupyter-widgets/base",
            "_model_module_version": "1.2.0",
            "_model_name": "LayoutModel",
            "_view_count": null,
            "_view_module": "@jupyter-widgets/base",
            "_view_module_version": "1.2.0",
            "_view_name": "LayoutView",
            "align_content": null,
            "align_items": null,
            "align_self": null,
            "border": null,
            "bottom": null,
            "display": null,
            "flex": null,
            "flex_flow": null,
            "grid_area": null,
            "grid_auto_columns": null,
            "grid_auto_flow": null,
            "grid_auto_rows": null,
            "grid_column": null,
            "grid_gap": null,
            "grid_row": null,
            "grid_template_areas": null,
            "grid_template_columns": null,
            "grid_template_rows": null,
            "height": null,
            "justify_content": null,
            "justify_items": null,
            "left": null,
            "margin": null,
            "max_height": null,
            "max_width": null,
            "min_height": null,
            "min_width": null,
            "object_fit": null,
            "object_position": null,
            "order": null,
            "overflow": null,
            "overflow_x": null,
            "overflow_y": null,
            "padding": null,
            "right": null,
            "top": null,
            "visibility": null,
            "width": null
          }
        },
        "0b29ee52505840d1b02f3c7a9336ab63": {
          "model_module": "@jupyter-widgets/controls",
          "model_module_version": "1.5.0",
          "model_name": "HBoxModel",
          "state": {
            "_dom_classes": [],
            "_model_module": "@jupyter-widgets/controls",
            "_model_module_version": "1.5.0",
            "_model_name": "HBoxModel",
            "_view_count": null,
            "_view_module": "@jupyter-widgets/controls",
            "_view_module_version": "1.5.0",
            "_view_name": "HBoxView",
            "box_style": "",
            "children": [
              "IPY_MODEL_bb8e9ae611c94537acd10730b54fcfbc",
              "IPY_MODEL_59e56df363b84c81be14eb10edb29c54",
              "IPY_MODEL_19e50d48ccff413e98f68725b6e9564c"
            ],
            "layout": "IPY_MODEL_9d478c9e6bb842f7a16d94e897d6b7d3"
          }
        },
        "19e50d48ccff413e98f68725b6e9564c": {
          "model_module": "@jupyter-widgets/controls",
          "model_module_version": "1.5.0",
          "model_name": "HTMLModel",
          "state": {
            "_dom_classes": [],
            "_model_module": "@jupyter-widgets/controls",
            "_model_module_version": "1.5.0",
            "_model_name": "HTMLModel",
            "_view_count": null,
            "_view_module": "@jupyter-widgets/controls",
            "_view_module_version": "1.5.0",
            "_view_name": "HTMLView",
            "description": "",
            "description_tooltip": null,
            "layout": "IPY_MODEL_94bc2e5577774e18a7bf445da5293a9a",
            "placeholder": "​",
            "style": "IPY_MODEL_760058f7af0b4c6c98d34c3f406c9bcf",
            "value": " 29/29 [00:09&lt;00:00,  2.98it/s]"
          }
        },
        "59e56df363b84c81be14eb10edb29c54": {
          "model_module": "@jupyter-widgets/controls",
          "model_module_version": "1.5.0",
          "model_name": "FloatProgressModel",
          "state": {
            "_dom_classes": [],
            "_model_module": "@jupyter-widgets/controls",
            "_model_module_version": "1.5.0",
            "_model_name": "FloatProgressModel",
            "_view_count": null,
            "_view_module": "@jupyter-widgets/controls",
            "_view_module_version": "1.5.0",
            "_view_name": "ProgressView",
            "bar_style": "success",
            "description": "",
            "description_tooltip": null,
            "layout": "IPY_MODEL_03b8bf1085664bee94a3d387d2517b0e",
            "max": 29,
            "min": 0,
            "orientation": "horizontal",
            "style": "IPY_MODEL_c07ad87073e546739d9b6ef2e470e731",
            "value": 29
          }
        },
        "5e347139e3d74381b6871546c60461a7": {
          "model_module": "@jupyter-widgets/base",
          "model_module_version": "1.2.0",
          "model_name": "LayoutModel",
          "state": {
            "_model_module": "@jupyter-widgets/base",
            "_model_module_version": "1.2.0",
            "_model_name": "LayoutModel",
            "_view_count": null,
            "_view_module": "@jupyter-widgets/base",
            "_view_module_version": "1.2.0",
            "_view_name": "LayoutView",
            "align_content": null,
            "align_items": null,
            "align_self": null,
            "border": null,
            "bottom": null,
            "display": null,
            "flex": null,
            "flex_flow": null,
            "grid_area": null,
            "grid_auto_columns": null,
            "grid_auto_flow": null,
            "grid_auto_rows": null,
            "grid_column": null,
            "grid_gap": null,
            "grid_row": null,
            "grid_template_areas": null,
            "grid_template_columns": null,
            "grid_template_rows": null,
            "height": null,
            "justify_content": null,
            "justify_items": null,
            "left": null,
            "margin": null,
            "max_height": null,
            "max_width": null,
            "min_height": null,
            "min_width": null,
            "object_fit": null,
            "object_position": null,
            "order": null,
            "overflow": null,
            "overflow_x": null,
            "overflow_y": null,
            "padding": null,
            "right": null,
            "top": null,
            "visibility": null,
            "width": null
          }
        },
        "760058f7af0b4c6c98d34c3f406c9bcf": {
          "model_module": "@jupyter-widgets/controls",
          "model_module_version": "1.5.0",
          "model_name": "DescriptionStyleModel",
          "state": {
            "_model_module": "@jupyter-widgets/controls",
            "_model_module_version": "1.5.0",
            "_model_name": "DescriptionStyleModel",
            "_view_count": null,
            "_view_module": "@jupyter-widgets/base",
            "_view_module_version": "1.2.0",
            "_view_name": "StyleView",
            "description_width": ""
          }
        },
        "94bc2e5577774e18a7bf445da5293a9a": {
          "model_module": "@jupyter-widgets/base",
          "model_module_version": "1.2.0",
          "model_name": "LayoutModel",
          "state": {
            "_model_module": "@jupyter-widgets/base",
            "_model_module_version": "1.2.0",
            "_model_name": "LayoutModel",
            "_view_count": null,
            "_view_module": "@jupyter-widgets/base",
            "_view_module_version": "1.2.0",
            "_view_name": "LayoutView",
            "align_content": null,
            "align_items": null,
            "align_self": null,
            "border": null,
            "bottom": null,
            "display": null,
            "flex": null,
            "flex_flow": null,
            "grid_area": null,
            "grid_auto_columns": null,
            "grid_auto_flow": null,
            "grid_auto_rows": null,
            "grid_column": null,
            "grid_gap": null,
            "grid_row": null,
            "grid_template_areas": null,
            "grid_template_columns": null,
            "grid_template_rows": null,
            "height": null,
            "justify_content": null,
            "justify_items": null,
            "left": null,
            "margin": null,
            "max_height": null,
            "max_width": null,
            "min_height": null,
            "min_width": null,
            "object_fit": null,
            "object_position": null,
            "order": null,
            "overflow": null,
            "overflow_x": null,
            "overflow_y": null,
            "padding": null,
            "right": null,
            "top": null,
            "visibility": null,
            "width": null
          }
        },
        "9d478c9e6bb842f7a16d94e897d6b7d3": {
          "model_module": "@jupyter-widgets/base",
          "model_module_version": "1.2.0",
          "model_name": "LayoutModel",
          "state": {
            "_model_module": "@jupyter-widgets/base",
            "_model_module_version": "1.2.0",
            "_model_name": "LayoutModel",
            "_view_count": null,
            "_view_module": "@jupyter-widgets/base",
            "_view_module_version": "1.2.0",
            "_view_name": "LayoutView",
            "align_content": null,
            "align_items": null,
            "align_self": null,
            "border": null,
            "bottom": null,
            "display": null,
            "flex": null,
            "flex_flow": null,
            "grid_area": null,
            "grid_auto_columns": null,
            "grid_auto_flow": null,
            "grid_auto_rows": null,
            "grid_column": null,
            "grid_gap": null,
            "grid_row": null,
            "grid_template_areas": null,
            "grid_template_columns": null,
            "grid_template_rows": null,
            "height": null,
            "justify_content": null,
            "justify_items": null,
            "left": null,
            "margin": null,
            "max_height": null,
            "max_width": null,
            "min_height": null,
            "min_width": null,
            "object_fit": null,
            "object_position": null,
            "order": null,
            "overflow": null,
            "overflow_x": null,
            "overflow_y": null,
            "padding": null,
            "right": null,
            "top": null,
            "visibility": null,
            "width": null
          }
        },
        "bb8e9ae611c94537acd10730b54fcfbc": {
          "model_module": "@jupyter-widgets/controls",
          "model_module_version": "1.5.0",
          "model_name": "HTMLModel",
          "state": {
            "_dom_classes": [],
            "_model_module": "@jupyter-widgets/controls",
            "_model_module_version": "1.5.0",
            "_model_name": "HTMLModel",
            "_view_count": null,
            "_view_module": "@jupyter-widgets/controls",
            "_view_module_version": "1.5.0",
            "_view_name": "HTMLView",
            "description": "",
            "description_tooltip": null,
            "layout": "IPY_MODEL_5e347139e3d74381b6871546c60461a7",
            "placeholder": "​",
            "style": "IPY_MODEL_dd4ab737b4f04293bdb9d97e3c14cd99",
            "value": "100%"
          }
        },
        "c07ad87073e546739d9b6ef2e470e731": {
          "model_module": "@jupyter-widgets/controls",
          "model_module_version": "1.5.0",
          "model_name": "ProgressStyleModel",
          "state": {
            "_model_module": "@jupyter-widgets/controls",
            "_model_module_version": "1.5.0",
            "_model_name": "ProgressStyleModel",
            "_view_count": null,
            "_view_module": "@jupyter-widgets/base",
            "_view_module_version": "1.2.0",
            "_view_name": "StyleView",
            "bar_color": null,
            "description_width": ""
          }
        },
        "dd4ab737b4f04293bdb9d97e3c14cd99": {
          "model_module": "@jupyter-widgets/controls",
          "model_module_version": "1.5.0",
          "model_name": "DescriptionStyleModel",
          "state": {
            "_model_module": "@jupyter-widgets/controls",
            "_model_module_version": "1.5.0",
            "_model_name": "DescriptionStyleModel",
            "_view_count": null,
            "_view_module": "@jupyter-widgets/base",
            "_view_module_version": "1.2.0",
            "_view_name": "StyleView",
            "description_width": ""
          }
        }
      }
    }
  },
  "nbformat": 4,
  "nbformat_minor": 0
}
