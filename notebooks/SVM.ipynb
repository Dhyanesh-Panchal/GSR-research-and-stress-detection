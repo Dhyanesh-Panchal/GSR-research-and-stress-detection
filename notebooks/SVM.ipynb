{
 "cells": [
  {
   "cell_type": "code",
   "execution_count": 13,
   "metadata": {},
   "outputs": [],
   "source": [
    "import pandas as pd\n",
    "import numpy as np\n",
    "from sklearn.svm import LinearSVC\n",
    "from sklearn.preprocessing import StandardScaler\n",
    "from sklearn.pipeline import Pipeline\n",
    "\n",
    "from sklearn.model_selection import train_test_split\n",
    "from sklearn.preprocessing import OneHotEncoder\n",
    "from sklearn.compose import ColumnTransformer\n",
    "\n",
    "from sklearn.metrics import ConfusionMatrixDisplay,confusion_matrix,classification_report,accuracy_score\n",
    "import pickle\n"
   ]
  },
  {
   "cell_type": "markdown",
   "metadata": {},
   "source": [
    "# Prepare the data "
   ]
  },
  {
   "cell_type": "code",
   "execution_count": 2,
   "metadata": {},
   "outputs": [
    {
     "data": {
      "text/html": [
       "<div>\n",
       "<style scoped>\n",
       "    .dataframe tbody tr th:only-of-type {\n",
       "        vertical-align: middle;\n",
       "    }\n",
       "\n",
       "    .dataframe tbody tr th {\n",
       "        vertical-align: top;\n",
       "    }\n",
       "\n",
       "    .dataframe thead th {\n",
       "        text-align: right;\n",
       "    }\n",
       "</style>\n",
       "<table border=\"1\" class=\"dataframe\">\n",
       "  <thead>\n",
       "    <tr style=\"text-align: right;\">\n",
       "      <th></th>\n",
       "      <th>variance</th>\n",
       "      <th>mean</th>\n",
       "      <th>skewness</th>\n",
       "      <th>kurtosis</th>\n",
       "      <th>class_4</th>\n",
       "      <th>class_2_arousal</th>\n",
       "      <th>arousal</th>\n",
       "      <th>valence</th>\n",
       "    </tr>\n",
       "  </thead>\n",
       "  <tbody>\n",
       "    <tr>\n",
       "      <th>0</th>\n",
       "      <td>0.031139</td>\n",
       "      <td>8.115219</td>\n",
       "      <td>4.304744e-03</td>\n",
       "      <td>1.949733e-03</td>\n",
       "      <td>LL</td>\n",
       "      <td>L</td>\n",
       "      <td>5.0</td>\n",
       "      <td>5.0</td>\n",
       "    </tr>\n",
       "    <tr>\n",
       "      <th>1</th>\n",
       "      <td>0.032284</td>\n",
       "      <td>8.115219</td>\n",
       "      <td>4.339563e-03</td>\n",
       "      <td>2.018726e-03</td>\n",
       "      <td>LL</td>\n",
       "      <td>L</td>\n",
       "      <td>5.0</td>\n",
       "      <td>5.0</td>\n",
       "    </tr>\n",
       "    <tr>\n",
       "      <th>2</th>\n",
       "      <td>0.033404</td>\n",
       "      <td>8.115219</td>\n",
       "      <td>4.343896e-03</td>\n",
       "      <td>2.082307e-03</td>\n",
       "      <td>LL</td>\n",
       "      <td>L</td>\n",
       "      <td>5.0</td>\n",
       "      <td>5.0</td>\n",
       "    </tr>\n",
       "    <tr>\n",
       "      <th>3</th>\n",
       "      <td>0.034483</td>\n",
       "      <td>8.115219</td>\n",
       "      <td>4.314259e-03</td>\n",
       "      <td>2.138679e-03</td>\n",
       "      <td>LL</td>\n",
       "      <td>L</td>\n",
       "      <td>5.0</td>\n",
       "      <td>5.0</td>\n",
       "    </tr>\n",
       "    <tr>\n",
       "      <th>4</th>\n",
       "      <td>0.035515</td>\n",
       "      <td>8.115219</td>\n",
       "      <td>4.250955e-03</td>\n",
       "      <td>2.187956e-03</td>\n",
       "      <td>LL</td>\n",
       "      <td>L</td>\n",
       "      <td>5.0</td>\n",
       "      <td>5.0</td>\n",
       "    </tr>\n",
       "    <tr>\n",
       "      <th>...</th>\n",
       "      <td>...</td>\n",
       "      <td>...</td>\n",
       "      <td>...</td>\n",
       "      <td>...</td>\n",
       "      <td>...</td>\n",
       "      <td>...</td>\n",
       "      <td>...</td>\n",
       "      <td>...</td>\n",
       "    </tr>\n",
       "    <tr>\n",
       "      <th>48928</th>\n",
       "      <td>0.000221</td>\n",
       "      <td>8.115219</td>\n",
       "      <td>4.984886e-07</td>\n",
       "      <td>9.570860e-08</td>\n",
       "      <td>LL</td>\n",
       "      <td>L</td>\n",
       "      <td>5.0</td>\n",
       "      <td>5.0</td>\n",
       "    </tr>\n",
       "    <tr>\n",
       "      <th>48929</th>\n",
       "      <td>0.000216</td>\n",
       "      <td>8.115219</td>\n",
       "      <td>5.553624e-07</td>\n",
       "      <td>9.393173e-08</td>\n",
       "      <td>LL</td>\n",
       "      <td>L</td>\n",
       "      <td>5.0</td>\n",
       "      <td>5.0</td>\n",
       "    </tr>\n",
       "    <tr>\n",
       "      <th>48930</th>\n",
       "      <td>0.000211</td>\n",
       "      <td>8.115219</td>\n",
       "      <td>5.670860e-07</td>\n",
       "      <td>9.211443e-08</td>\n",
       "      <td>LL</td>\n",
       "      <td>L</td>\n",
       "      <td>5.0</td>\n",
       "      <td>5.0</td>\n",
       "    </tr>\n",
       "    <tr>\n",
       "      <th>48931</th>\n",
       "      <td>0.000207</td>\n",
       "      <td>8.115219</td>\n",
       "      <td>5.376168e-07</td>\n",
       "      <td>8.975282e-08</td>\n",
       "      <td>LL</td>\n",
       "      <td>L</td>\n",
       "      <td>5.0</td>\n",
       "      <td>5.0</td>\n",
       "    </tr>\n",
       "    <tr>\n",
       "      <th>48932</th>\n",
       "      <td>0.000203</td>\n",
       "      <td>8.115219</td>\n",
       "      <td>4.788217e-07</td>\n",
       "      <td>8.671517e-08</td>\n",
       "      <td>LL</td>\n",
       "      <td>L</td>\n",
       "      <td>5.0</td>\n",
       "      <td>5.0</td>\n",
       "    </tr>\n",
       "  </tbody>\n",
       "</table>\n",
       "<p>48933 rows × 8 columns</p>\n",
       "</div>"
      ],
      "text/plain": [
       "       variance      mean      skewness      kurtosis class_4 class_2_arousal  \\\n",
       "0      0.031139  8.115219  4.304744e-03  1.949733e-03      LL               L   \n",
       "1      0.032284  8.115219  4.339563e-03  2.018726e-03      LL               L   \n",
       "2      0.033404  8.115219  4.343896e-03  2.082307e-03      LL               L   \n",
       "3      0.034483  8.115219  4.314259e-03  2.138679e-03      LL               L   \n",
       "4      0.035515  8.115219  4.250955e-03  2.187956e-03      LL               L   \n",
       "...         ...       ...           ...           ...     ...             ...   \n",
       "48928  0.000221  8.115219  4.984886e-07  9.570860e-08      LL               L   \n",
       "48929  0.000216  8.115219  5.553624e-07  9.393173e-08      LL               L   \n",
       "48930  0.000211  8.115219  5.670860e-07  9.211443e-08      LL               L   \n",
       "48931  0.000207  8.115219  5.376168e-07  8.975282e-08      LL               L   \n",
       "48932  0.000203  8.115219  4.788217e-07  8.671517e-08      LL               L   \n",
       "\n",
       "       arousal  valence  \n",
       "0          5.0      5.0  \n",
       "1          5.0      5.0  \n",
       "2          5.0      5.0  \n",
       "3          5.0      5.0  \n",
       "4          5.0      5.0  \n",
       "...        ...      ...  \n",
       "48928      5.0      5.0  \n",
       "48929      5.0      5.0  \n",
       "48930      5.0      5.0  \n",
       "48931      5.0      5.0  \n",
       "48932      5.0      5.0  \n",
       "\n",
       "[48933 rows x 8 columns]"
      ]
     },
     "execution_count": 2,
     "metadata": {},
     "output_type": "execute_result"
    }
   ],
   "source": [
    "data_df = pd.read_csv(\"../statistical_features_over_window/sub_1_w100_g1.csv\").drop(\"Unnamed: 0\",axis=1)\n",
    "data_df"
   ]
  },
  {
   "cell_type": "code",
   "execution_count": 3,
   "metadata": {},
   "outputs": [
    {
     "data": {
      "text/plain": [
       "1467990"
      ]
     },
     "execution_count": 3,
     "metadata": {},
     "output_type": "execute_result"
    }
   ],
   "source": [
    "for i in range(2,31):\n",
    "    df = pd.read_csv(f\"../statistical_features_over_window/sub_{i}_w100_g1.csv\").drop(\"Unnamed: 0\",axis=1)\n",
    "    data_df = pd.concat([data_df,df],axis=0)\n",
    "\n",
    "len(data_df)"
   ]
  },
  {
   "cell_type": "markdown",
   "metadata": {},
   "source": [
    "Dropping the Initial default reading   "
   ]
  },
  {
   "cell_type": "code",
   "execution_count": 4,
   "metadata": {},
   "outputs": [],
   "source": [
    "filtered_data = data_df[(data_df[\"arousal\"]!=5) & (data_df[\"valence\"]!=5)]"
   ]
  },
  {
   "cell_type": "code",
   "execution_count": 5,
   "metadata": {},
   "outputs": [],
   "source": [
    "filtered_data = filtered_data.reset_index().drop(\"index\",axis=1)"
   ]
  },
  {
   "cell_type": "code",
   "execution_count": 6,
   "metadata": {},
   "outputs": [
    {
     "data": {
      "text/html": [
       "<div>\n",
       "<style scoped>\n",
       "    .dataframe tbody tr th:only-of-type {\n",
       "        vertical-align: middle;\n",
       "    }\n",
       "\n",
       "    .dataframe tbody tr th {\n",
       "        vertical-align: top;\n",
       "    }\n",
       "\n",
       "    .dataframe thead th {\n",
       "        text-align: right;\n",
       "    }\n",
       "</style>\n",
       "<table border=\"1\" class=\"dataframe\">\n",
       "  <thead>\n",
       "    <tr style=\"text-align: right;\">\n",
       "      <th></th>\n",
       "      <th>variance</th>\n",
       "      <th>mean</th>\n",
       "      <th>skewness</th>\n",
       "      <th>kurtosis</th>\n",
       "      <th>class_4</th>\n",
       "      <th>class_2_arousal</th>\n",
       "      <th>arousal</th>\n",
       "      <th>valence</th>\n",
       "    </tr>\n",
       "  </thead>\n",
       "  <tbody>\n",
       "    <tr>\n",
       "      <th>0</th>\n",
       "      <td>0.002259</td>\n",
       "      <td>8.115219</td>\n",
       "      <td>-0.000010</td>\n",
       "      <td>0.000010</td>\n",
       "      <td>LL</td>\n",
       "      <td>L</td>\n",
       "      <td>4.721</td>\n",
       "      <td>4.972</td>\n",
       "    </tr>\n",
       "    <tr>\n",
       "      <th>1</th>\n",
       "      <td>0.002258</td>\n",
       "      <td>8.115219</td>\n",
       "      <td>-0.000011</td>\n",
       "      <td>0.000010</td>\n",
       "      <td>LL</td>\n",
       "      <td>L</td>\n",
       "      <td>4.708</td>\n",
       "      <td>4.951</td>\n",
       "    </tr>\n",
       "    <tr>\n",
       "      <th>2</th>\n",
       "      <td>0.002257</td>\n",
       "      <td>8.115219</td>\n",
       "      <td>-0.000011</td>\n",
       "      <td>0.000010</td>\n",
       "      <td>LL</td>\n",
       "      <td>L</td>\n",
       "      <td>4.704</td>\n",
       "      <td>4.951</td>\n",
       "    </tr>\n",
       "    <tr>\n",
       "      <th>3</th>\n",
       "      <td>0.002260</td>\n",
       "      <td>8.115219</td>\n",
       "      <td>-0.000011</td>\n",
       "      <td>0.000010</td>\n",
       "      <td>LL</td>\n",
       "      <td>L</td>\n",
       "      <td>4.699</td>\n",
       "      <td>4.953</td>\n",
       "    </tr>\n",
       "    <tr>\n",
       "      <th>4</th>\n",
       "      <td>0.002267</td>\n",
       "      <td>8.115219</td>\n",
       "      <td>-0.000010</td>\n",
       "      <td>0.000010</td>\n",
       "      <td>LL</td>\n",
       "      <td>L</td>\n",
       "      <td>4.690</td>\n",
       "      <td>4.955</td>\n",
       "    </tr>\n",
       "    <tr>\n",
       "      <th>...</th>\n",
       "      <td>...</td>\n",
       "      <td>...</td>\n",
       "      <td>...</td>\n",
       "      <td>...</td>\n",
       "      <td>...</td>\n",
       "      <td>...</td>\n",
       "      <td>...</td>\n",
       "      <td>...</td>\n",
       "    </tr>\n",
       "    <tr>\n",
       "      <th>699330</th>\n",
       "      <td>0.006742</td>\n",
       "      <td>7.040099</td>\n",
       "      <td>-0.000194</td>\n",
       "      <td>0.000100</td>\n",
       "      <td>LH</td>\n",
       "      <td>H</td>\n",
       "      <td>5.150</td>\n",
       "      <td>4.756</td>\n",
       "    </tr>\n",
       "    <tr>\n",
       "      <th>699331</th>\n",
       "      <td>0.006753</td>\n",
       "      <td>7.040099</td>\n",
       "      <td>-0.000182</td>\n",
       "      <td>0.000099</td>\n",
       "      <td>LH</td>\n",
       "      <td>H</td>\n",
       "      <td>5.094</td>\n",
       "      <td>4.785</td>\n",
       "    </tr>\n",
       "    <tr>\n",
       "      <th>699332</th>\n",
       "      <td>0.006704</td>\n",
       "      <td>7.040099</td>\n",
       "      <td>-0.000166</td>\n",
       "      <td>0.000096</td>\n",
       "      <td>LH</td>\n",
       "      <td>H</td>\n",
       "      <td>5.090</td>\n",
       "      <td>4.802</td>\n",
       "    </tr>\n",
       "    <tr>\n",
       "      <th>699333</th>\n",
       "      <td>0.006649</td>\n",
       "      <td>7.040099</td>\n",
       "      <td>-0.000149</td>\n",
       "      <td>0.000093</td>\n",
       "      <td>LH</td>\n",
       "      <td>H</td>\n",
       "      <td>5.072</td>\n",
       "      <td>4.853</td>\n",
       "    </tr>\n",
       "    <tr>\n",
       "      <th>699334</th>\n",
       "      <td>0.006618</td>\n",
       "      <td>7.040099</td>\n",
       "      <td>-0.000132</td>\n",
       "      <td>0.000091</td>\n",
       "      <td>LH</td>\n",
       "      <td>H</td>\n",
       "      <td>5.023</td>\n",
       "      <td>4.912</td>\n",
       "    </tr>\n",
       "  </tbody>\n",
       "</table>\n",
       "<p>699335 rows × 8 columns</p>\n",
       "</div>"
      ],
      "text/plain": [
       "        variance      mean  skewness  kurtosis class_4 class_2_arousal  \\\n",
       "0       0.002259  8.115219 -0.000010  0.000010      LL               L   \n",
       "1       0.002258  8.115219 -0.000011  0.000010      LL               L   \n",
       "2       0.002257  8.115219 -0.000011  0.000010      LL               L   \n",
       "3       0.002260  8.115219 -0.000011  0.000010      LL               L   \n",
       "4       0.002267  8.115219 -0.000010  0.000010      LL               L   \n",
       "...          ...       ...       ...       ...     ...             ...   \n",
       "699330  0.006742  7.040099 -0.000194  0.000100      LH               H   \n",
       "699331  0.006753  7.040099 -0.000182  0.000099      LH               H   \n",
       "699332  0.006704  7.040099 -0.000166  0.000096      LH               H   \n",
       "699333  0.006649  7.040099 -0.000149  0.000093      LH               H   \n",
       "699334  0.006618  7.040099 -0.000132  0.000091      LH               H   \n",
       "\n",
       "        arousal  valence  \n",
       "0         4.721    4.972  \n",
       "1         4.708    4.951  \n",
       "2         4.704    4.951  \n",
       "3         4.699    4.953  \n",
       "4         4.690    4.955  \n",
       "...         ...      ...  \n",
       "699330    5.150    4.756  \n",
       "699331    5.094    4.785  \n",
       "699332    5.090    4.802  \n",
       "699333    5.072    4.853  \n",
       "699334    5.023    4.912  \n",
       "\n",
       "[699335 rows x 8 columns]"
      ]
     },
     "execution_count": 6,
     "metadata": {},
     "output_type": "execute_result"
    }
   ],
   "source": [
    "filtered_data"
   ]
  },
  {
   "cell_type": "code",
   "execution_count": 7,
   "metadata": {},
   "outputs": [],
   "source": [
    "data_2_class = filtered_data.drop([\"class_4\",\"arousal\",\"valence\"],axis=1)\n",
    "data_4_class = filtered_data.drop([\"class_2_arousal\",\"arousal\",\"valence\"],axis=1)"
   ]
  },
  {
   "cell_type": "code",
   "execution_count": 8,
   "metadata": {},
   "outputs": [],
   "source": [
    "data_2_class_encoded = pd.get_dummies(data_2_class,columns=[\"class_2_arousal\"])"
   ]
  },
  {
   "cell_type": "markdown",
   "metadata": {},
   "source": [
    "# LinearSVM For Arousal Based 2-Class Claffication"
   ]
  },
  {
   "cell_type": "code",
   "execution_count": 9,
   "metadata": {},
   "outputs": [],
   "source": [
    "train_X,test_X,train_Y,test_Y = train_test_split(data_2_class.drop(\"class_2_arousal\",axis=1) , data_2_class[\"class_2_arousal\"] , test_size=0.4)"
   ]
  },
  {
   "cell_type": "code",
   "execution_count": 10,
   "metadata": {},
   "outputs": [
    {
     "data": {
      "text/plain": [
       "118178    L\n",
       "50955     L\n",
       "383821    H\n",
       "129515    L\n",
       "287825    H\n",
       "         ..\n",
       "539181    L\n",
       "181938    H\n",
       "482398    L\n",
       "207586    L\n",
       "270301    H\n",
       "Name: class_2_arousal, Length: 419601, dtype: object"
      ]
     },
     "execution_count": 10,
     "metadata": {},
     "output_type": "execute_result"
    }
   ],
   "source": [
    "train_Y"
   ]
  },
  {
   "cell_type": "code",
   "execution_count": 17,
   "metadata": {},
   "outputs": [],
   "source": [
    "linear_SVM  = Pipeline([\n",
    "    ('scaler', StandardScaler()),  # Feature scaling improves the performance\n",
    "    ('svm_clf', LinearSVC(max_iter=10000, tol=1e-4,class_weight=\"balanced\"))\n",
    "])"
   ]
  },
  {
   "cell_type": "code",
   "execution_count": 18,
   "metadata": {},
   "outputs": [
    {
     "name": "stderr",
     "output_type": "stream",
     "text": [
      "d:\\CODING\\Emotion_Recognition_Project\\EDA-activities\\env\\Lib\\site-packages\\sklearn\\svm\\_base.py:1244: ConvergenceWarning: Liblinear failed to converge, increase the number of iterations.\n",
      "  warnings.warn(\n"
     ]
    },
    {
     "data": {
      "text/html": [
       "<style>#sk-container-id-2 {color: black;background-color: white;}#sk-container-id-2 pre{padding: 0;}#sk-container-id-2 div.sk-toggleable {background-color: white;}#sk-container-id-2 label.sk-toggleable__label {cursor: pointer;display: block;width: 100%;margin-bottom: 0;padding: 0.3em;box-sizing: border-box;text-align: center;}#sk-container-id-2 label.sk-toggleable__label-arrow:before {content: \"▸\";float: left;margin-right: 0.25em;color: #696969;}#sk-container-id-2 label.sk-toggleable__label-arrow:hover:before {color: black;}#sk-container-id-2 div.sk-estimator:hover label.sk-toggleable__label-arrow:before {color: black;}#sk-container-id-2 div.sk-toggleable__content {max-height: 0;max-width: 0;overflow: hidden;text-align: left;background-color: #f0f8ff;}#sk-container-id-2 div.sk-toggleable__content pre {margin: 0.2em;color: black;border-radius: 0.25em;background-color: #f0f8ff;}#sk-container-id-2 input.sk-toggleable__control:checked~div.sk-toggleable__content {max-height: 200px;max-width: 100%;overflow: auto;}#sk-container-id-2 input.sk-toggleable__control:checked~label.sk-toggleable__label-arrow:before {content: \"▾\";}#sk-container-id-2 div.sk-estimator input.sk-toggleable__control:checked~label.sk-toggleable__label {background-color: #d4ebff;}#sk-container-id-2 div.sk-label input.sk-toggleable__control:checked~label.sk-toggleable__label {background-color: #d4ebff;}#sk-container-id-2 input.sk-hidden--visually {border: 0;clip: rect(1px 1px 1px 1px);clip: rect(1px, 1px, 1px, 1px);height: 1px;margin: -1px;overflow: hidden;padding: 0;position: absolute;width: 1px;}#sk-container-id-2 div.sk-estimator {font-family: monospace;background-color: #f0f8ff;border: 1px dotted black;border-radius: 0.25em;box-sizing: border-box;margin-bottom: 0.5em;}#sk-container-id-2 div.sk-estimator:hover {background-color: #d4ebff;}#sk-container-id-2 div.sk-parallel-item::after {content: \"\";width: 100%;border-bottom: 1px solid gray;flex-grow: 1;}#sk-container-id-2 div.sk-label:hover label.sk-toggleable__label {background-color: #d4ebff;}#sk-container-id-2 div.sk-serial::before {content: \"\";position: absolute;border-left: 1px solid gray;box-sizing: border-box;top: 0;bottom: 0;left: 50%;z-index: 0;}#sk-container-id-2 div.sk-serial {display: flex;flex-direction: column;align-items: center;background-color: white;padding-right: 0.2em;padding-left: 0.2em;position: relative;}#sk-container-id-2 div.sk-item {position: relative;z-index: 1;}#sk-container-id-2 div.sk-parallel {display: flex;align-items: stretch;justify-content: center;background-color: white;position: relative;}#sk-container-id-2 div.sk-item::before, #sk-container-id-2 div.sk-parallel-item::before {content: \"\";position: absolute;border-left: 1px solid gray;box-sizing: border-box;top: 0;bottom: 0;left: 50%;z-index: -1;}#sk-container-id-2 div.sk-parallel-item {display: flex;flex-direction: column;z-index: 1;position: relative;background-color: white;}#sk-container-id-2 div.sk-parallel-item:first-child::after {align-self: flex-end;width: 50%;}#sk-container-id-2 div.sk-parallel-item:last-child::after {align-self: flex-start;width: 50%;}#sk-container-id-2 div.sk-parallel-item:only-child::after {width: 0;}#sk-container-id-2 div.sk-dashed-wrapped {border: 1px dashed gray;margin: 0 0.4em 0.5em 0.4em;box-sizing: border-box;padding-bottom: 0.4em;background-color: white;}#sk-container-id-2 div.sk-label label {font-family: monospace;font-weight: bold;display: inline-block;line-height: 1.2em;}#sk-container-id-2 div.sk-label-container {text-align: center;}#sk-container-id-2 div.sk-container {/* jupyter's `normalize.less` sets `[hidden] { display: none; }` but bootstrap.min.css set `[hidden] { display: none !important; }` so we also need the `!important` here to be able to override the default hidden behavior on the sphinx rendered scikit-learn.org. See: https://github.com/scikit-learn/scikit-learn/issues/21755 */display: inline-block !important;position: relative;}#sk-container-id-2 div.sk-text-repr-fallback {display: none;}</style><div id=\"sk-container-id-2\" class=\"sk-top-container\"><div class=\"sk-text-repr-fallback\"><pre>Pipeline(steps=[(&#x27;scaler&#x27;, StandardScaler()),\n",
       "                (&#x27;svm_clf&#x27;,\n",
       "                 LinearSVC(class_weight=&#x27;balanced&#x27;, max_iter=10000))])</pre><b>In a Jupyter environment, please rerun this cell to show the HTML representation or trust the notebook. <br />On GitHub, the HTML representation is unable to render, please try loading this page with nbviewer.org.</b></div><div class=\"sk-container\" hidden><div class=\"sk-item sk-dashed-wrapped\"><div class=\"sk-label-container\"><div class=\"sk-label sk-toggleable\"><input class=\"sk-toggleable__control sk-hidden--visually\" id=\"sk-estimator-id-4\" type=\"checkbox\" ><label for=\"sk-estimator-id-4\" class=\"sk-toggleable__label sk-toggleable__label-arrow\">Pipeline</label><div class=\"sk-toggleable__content\"><pre>Pipeline(steps=[(&#x27;scaler&#x27;, StandardScaler()),\n",
       "                (&#x27;svm_clf&#x27;,\n",
       "                 LinearSVC(class_weight=&#x27;balanced&#x27;, max_iter=10000))])</pre></div></div></div><div class=\"sk-serial\"><div class=\"sk-item\"><div class=\"sk-estimator sk-toggleable\"><input class=\"sk-toggleable__control sk-hidden--visually\" id=\"sk-estimator-id-5\" type=\"checkbox\" ><label for=\"sk-estimator-id-5\" class=\"sk-toggleable__label sk-toggleable__label-arrow\">StandardScaler</label><div class=\"sk-toggleable__content\"><pre>StandardScaler()</pre></div></div></div><div class=\"sk-item\"><div class=\"sk-estimator sk-toggleable\"><input class=\"sk-toggleable__control sk-hidden--visually\" id=\"sk-estimator-id-6\" type=\"checkbox\" ><label for=\"sk-estimator-id-6\" class=\"sk-toggleable__label sk-toggleable__label-arrow\">LinearSVC</label><div class=\"sk-toggleable__content\"><pre>LinearSVC(class_weight=&#x27;balanced&#x27;, max_iter=10000)</pre></div></div></div></div></div></div></div>"
      ],
      "text/plain": [
       "Pipeline(steps=[('scaler', StandardScaler()),\n",
       "                ('svm_clf',\n",
       "                 LinearSVC(class_weight='balanced', max_iter=10000))])"
      ]
     },
     "execution_count": 18,
     "metadata": {},
     "output_type": "execute_result"
    }
   ],
   "source": [
    "linear_SVM.fit(train_X,train_Y)"
   ]
  },
  {
   "cell_type": "code",
   "execution_count": 22,
   "metadata": {},
   "outputs": [],
   "source": [
    "with open('./Linear_SVM.pkl', 'wb') as file:\n",
    "    pickle.dump(linear_SVM, file)"
   ]
  },
  {
   "cell_type": "code",
   "execution_count": 19,
   "metadata": {},
   "outputs": [],
   "source": [
    "pred_Y = linear_SVM.predict(test_X)"
   ]
  },
  {
   "cell_type": "code",
   "execution_count": 20,
   "metadata": {},
   "outputs": [
    {
     "data": {
      "text/plain": [
       "<sklearn.metrics._plot.confusion_matrix.ConfusionMatrixDisplay at 0x1c0e3973110>"
      ]
     },
     "execution_count": 20,
     "metadata": {},
     "output_type": "execute_result"
    },
    {
     "data": {
      "image/png": "[encoded data removed]",
      "text/plain": [
       "<Figure size 640x480 with 2 Axes>"
      ]
     },
     "metadata": {},
     "output_type": "display_data"
    }
   ],
   "source": [
    "conf_matrix = confusion_matrix(test_Y, pred_Y)\n",
    "ConfusionMatrixDisplay(confusion_matrix=conf_matrix,display_labels=[\"H\",\"L\"]).plot()"
   ]
  },
  {
   "cell_type": "code",
   "execution_count": 21,
   "metadata": {},
   "outputs": [
    {
     "name": "stdout",
     "output_type": "stream",
     "text": [
      "              precision    recall  f1-score   support\n",
      "\n",
      "           H       0.69      0.40      0.50    159164\n",
      "           L       0.49      0.77      0.60    120570\n",
      "\n",
      "    accuracy                           0.56    279734\n",
      "   macro avg       0.59      0.58      0.55    279734\n",
      "weighted avg       0.61      0.56      0.55    279734\n",
      "\n"
     ]
    }
   ],
   "source": [
    "print(classification_report(test_Y, pred_Y))"
   ]
  },
  {
   "cell_type": "markdown",
   "metadata": {},
   "source": [
    "# Non Linear SVMs"
   ]
  },
  {
   "cell_type": "markdown",
   "metadata": {},
   "source": [
    "### RBF (Radical Basis Function)"
   ]
  },
  {
   "cell_type": "code",
   "execution_count": 23,
   "metadata": {},
   "outputs": [],
   "source": [
    "from sklearn.svm import SVC"
   ]
  },
  {
   "cell_type": "code",
   "execution_count": 24,
   "metadata": {},
   "outputs": [],
   "source": [
    "rbf_SVC  = Pipeline([\n",
    "    ('scaler', StandardScaler()),  # Feature scaling improves the performance\n",
    "    ('svm_clf', SVC(kernel='rbf', C=1.0, gamma='scale', cache_size=7000,class_weight=\"balanced\"))\n",
    "])"
   ]
  },
  {
   "cell_type": "code",
   "execution_count": 25,
   "metadata": {},
   "outputs": [],
   "source": [
    "rbf_SVC.fit(train_X,train_Y)"
   ]
  },
  {
   "cell_type": "code",
   "execution_count": null,
   "metadata": {},
   "outputs": [],
   "source": [
    "with open('./RBF_SVC.pkl', 'wb') as file:\n",
    "    pickle.dump(rbf_SVC, file)"
   ]
  },
  {
   "cell_type": "code",
   "execution_count": null,
   "metadata": {},
   "outputs": [],
   "source": [
    "pred_Y = rbf_SVC.predict(test_X)"
   ]
  },
  {
   "cell_type": "code",
   "execution_count": null,
   "metadata": {},
   "outputs": [
    {
     "data": {
      "text/plain": [
       "<sklearn.metrics._plot.confusion_matrix.ConfusionMatrixDisplay at 0x1c0e3973110>"
      ]
     },
     "metadata": {},
     "output_type": "display_data"
    },
    {
     "data": {
      "image/png": "[encoded data removed]",
      "text/plain": [
       "<Figure size 640x480 with 2 Axes>"
      ]
     },
     "metadata": {},
     "output_type": "display_data"
    }
   ],
   "source": [
    "conf_matrix = confusion_matrix(test_Y, pred_Y)\n",
    "ConfusionMatrixDisplay(confusion_matrix=conf_matrix,display_labels=[\"H\",\"L\"]).plot()"
   ]
  },
  {
   "cell_type": "code",
   "execution_count": null,
   "metadata": {},
   "outputs": [
    {
     "name": "stdout",
     "output_type": "stream",
     "text": [
      "              precision    recall  f1-score   support\n",
      "\n",
      "           H       0.69      0.40      0.50    159164\n",
      "           L       0.49      0.77      0.60    120570\n",
      "\n",
      "    accuracy                           0.56    279734\n",
      "   macro avg       0.59      0.58      0.55    279734\n",
      "weighted avg       0.61      0.56      0.55    279734\n",
      "\n"
     ]
    }
   ],
   "source": [
    "print(classification_report(test_Y, pred_Y))"
   ]
  },
  {
   "cell_type": "code",
   "execution_count": null,
   "metadata": {},
   "outputs": [],
   "source": []
  }
 ],
 "metadata": {
  "kernelspec": {
   "display_name": "Python 3",
   "language": "python",
   "name": "python3"
  },
  "language_info": {
   "codemirror_mode": {
    "name": "ipython",
    "version": 3
   },
   "file_extension": ".py",
   "mimetype": "text/x-python",
   "name": "python",
   "nbconvert_exporter": "python",
   "pygments_lexer": "ipython3",
   "version": "3.11.5"
  }
 },
 "nbformat": 4,
 "nbformat_minor": 2
}
