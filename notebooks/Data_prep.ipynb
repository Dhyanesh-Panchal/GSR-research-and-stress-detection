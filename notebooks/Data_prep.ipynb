{
 "cells": [
  {
   "cell_type": "code",
   "execution_count": 2,
   "metadata": {},
   "outputs": [
    {
     "name": "stderr",
     "output_type": "stream",
     "text": [
      "C:\\Users\\Dhyanesh Panchal\\AppData\\Local\\Temp\\ipykernel_16524\\3658490206.py:8: TqdmExperimentalWarning: Using `tqdm.autonotebook.tqdm` in notebook mode. Use `tqdm.tqdm` instead to force console mode (e.g. in jupyter console)\n",
      "  from tqdm.autonotebook import tqdm as tqdm\n"
     ]
    }
   ],
   "source": [
    "import numpy as np\n",
    "import pandas as pd\n",
    "import matplotlib.pyplot as plt\n",
    "\n",
    "import sys\n",
    "import os\n",
    "\n",
    "from tqdm.autonotebook import tqdm as tqdm\n",
    "\n",
    "import neurokit2 as nk\n",
    "from neurokit2.eda import eda_process\n"
   ]
  },
  {
   "cell_type": "code",
   "execution_count": 3,
   "metadata": {},
   "outputs": [],
   "source": [
    "sys.path.append(\"'D:\\CODING\\Emotion_Recognition_Project\\EDA-activities\")\n",
    "os.getcwd()\n",
    "\n",
    "os.chdir(\"..\")\n",
    "\n",
    "from eda_helper import Processing\n",
    "\n",
    "os.chdir(\"./notebooks\")"
   ]
  },
  {
   "cell_type": "markdown",
   "metadata": {},
   "source": [
    "---"
   ]
  },
  {
   "cell_type": "code",
   "execution_count": 3,
   "metadata": {},
   "outputs": [],
   "source": [
    "def classifier_4_class(val, aro):\n",
    "    \"\"\"\n",
    "    Classifies the input into one of four categories based on valence and arousal.\n",
    "    :param val: Valence value\n",
    "    :param aro: Arousal value\n",
    "    :return: A string representing the category ('HH', 'HL', 'LH', 'LL')\n",
    "    \"\"\"\n",
    "    if val > 5 and aro > 6.5:\n",
    "        return \"HH\"  # High Valence, High Arousal\n",
    "    elif val > 5 and aro <= 6.5:\n",
    "        return \"HL\"  # High Valence, Low Arousal\n",
    "    elif val <= 5 and aro > 6.5:\n",
    "        return \"LH\"  # Low Valence, High Arousal\n",
    "    else:  # val <= 5 and aro <= 6.5\n",
    "        return \"LL\"  # Low Valence, Low Arousal\n",
    "\n",
    "\n",
    "def classifier_2_class_arousal(aro):\n",
    "    \"\"\"\n",
    "    Classifies the input into one of two categories based on arousal.\n",
    "    :param aro: Arousal value\n",
    "    :return: A string representing the category ('H', 'L')\n",
    "    \"\"\"\n",
    "    if aro > 6.5:\n",
    "        return \"H\"  #  High Arousal\n",
    "    else:  # aro <= 6.5\n",
    "        return \"L\"  # Low Arousal"
   ]
  },
  {
   "cell_type": "markdown",
   "metadata": {},
   "source": [
    "Flow: *Load the Data* ==> *Apply the feature extraction* ==> *prepare the Data frame of labels* ==> *concat the features dataframe* ==> *Normalize the Data* ==> *write the data*"
   ]
  },
  {
   "cell_type": "code",
   "execution_count": null,
   "metadata": {},
   "outputs": [
    {
     "data": {
      "application/vnd.jupyter.widget-view+json": {
       "model_id": "361e231cad6d4229a528e6516a188b82",
       "version_major": 2,
       "version_minor": 0
      },
      "text/plain": [
       "Generating Neurokit Processed Data::   0%|          | 0/30 [00:00<?, ?it/s]"
      ]
     },
     "metadata": {},
     "output_type": "display_data"
    },
    {
     "name": "stdout",
     "output_type": "stream",
     "text": [
      "49032\n",
      "49032\n",
      "49032\n",
      "49032\n",
      "49032\n",
      "49032\n",
      "49032\n",
      "49032\n",
      "49032\n",
      "49032\n",
      "49032\n",
      "49032\n",
      "49032\n",
      "49032\n",
      "49032\n",
      "49032\n",
      "49032\n",
      "49032\n",
      "49032\n",
      "49032\n",
      "49032\n",
      "49032\n",
      "49032\n",
      "49032\n",
      "49032\n",
      "49032\n",
      "49032\n",
      "49032\n",
      "49032\n",
      "49032\n"
     ]
    }
   ],
   "source": [
    "for i in tqdm(range(1, 31), desc=\"Generating Neurokit Processed Data:\"):\n",
    "    sub_data = pd.read_csv(\n",
    "        f\"../CASE_full/CASE_full/data/interpolated/physiological/sub_{i}.csv\"\n",
    "    )[::50]\n",
    "    sub_labels = pd.read_csv(\n",
    "        f\"../CASE_full/CASE_full/data/interpolated/annotations/sub_{i}.csv\"\n",
    "    )\n",
    "    sub_analysis = eda_process(\n",
    "        sub_data[\"gsr\"], sampling_rate=1000 / 50, method=\"neurokit\"\n",
    "    )[0]\n",
    "\n",
    "    # Create the Data Frame for video and labels from original subject dataset\n",
    "    final_sub_data = pd.merge(\n",
    "        pd.DataFrame(\n",
    "            {\n",
    "                \"time\": sub_data[\"daqtime\"],\n",
    "                \"gsr\": sub_data[\"gsr\"],\n",
    "                \"video\": sub_data[\"video\"],\n",
    "            }\n",
    "        ),\n",
    "        pd.DataFrame(\n",
    "            {\n",
    "                \"valence\": sub_labels[\"valence\"],\n",
    "                \"arousal\": sub_labels[\"arousal\"],\n",
    "                \"time\": sub_labels[\"jstime\"],\n",
    "            }\n",
    "        ),\n",
    "        on=\"time\",\n",
    "        how=\"inner\",\n",
    "    )\n",
    "\n",
    "    # Merge the Neruokit analyzed Features\n",
    "    final_sub_data = pd.concat(\n",
    "        [final_sub_data, sub_analysis[[\"EDA_Clean\", \"EDA_Phasic\", \"EDA_Tonic\"]]], axis=1\n",
    "    )\n",
    "\n",
    "    # Add the 4 class and 2 class arousal labels\n",
    "    final_sub_data[\"class_4\"] = final_sub_data.apply(\n",
    "        lambda row: classifier_4_class(val=row[\"valence\"], aro=row[\"arousal\"]), axis=1\n",
    "    )\n",
    "    final_sub_data[\"class_2_arousal\"] = final_sub_data.apply(\n",
    "        lambda row: classifier_2_class_arousal(aro=row[\"arousal\"]), axis=1\n",
    "    )\n",
    "\n",
    "    # Write the Data\n",
    "    final_sub_data.to_csv(f\"../preprocessed_data/sub_{i}.csv\", index=False)\n",
    "    print(len(final_sub_data))"
   ]
  },
  {
   "cell_type": "markdown",
   "metadata": {},
   "source": [
    "---"
   ]
  },
  {
   "cell_type": "markdown",
   "metadata": {},
   "source": [
    "## Working on Windowed Data From Here"
   ]
  },
  {
   "cell_type": "markdown",
   "metadata": {},
   "source": [
    "Generating the windowed data for the Data of the video id: [5,6,7,8]."
   ]
  },
  {
   "cell_type": "code",
   "execution_count": 3,
   "metadata": {},
   "outputs": [
    {
     "data": {
      "text/html": [
       "<div>\n",
       "<style scoped>\n",
       "    .dataframe tbody tr th:only-of-type {\n",
       "        vertical-align: middle;\n",
       "    }\n",
       "\n",
       "    .dataframe tbody tr th {\n",
       "        vertical-align: top;\n",
       "    }\n",
       "\n",
       "    .dataframe thead th {\n",
       "        text-align: right;\n",
       "    }\n",
       "</style>\n",
       "<table border=\"1\" class=\"dataframe\">\n",
       "  <thead>\n",
       "    <tr style=\"text-align: right;\">\n",
       "      <th></th>\n",
       "      <th>time</th>\n",
       "      <th>gsr</th>\n",
       "      <th>video</th>\n",
       "      <th>valence</th>\n",
       "      <th>arousal</th>\n",
       "      <th>EDA_Clean</th>\n",
       "      <th>EDA_Phasic</th>\n",
       "      <th>EDA_Tonic</th>\n",
       "      <th>class_4</th>\n",
       "      <th>class_2_arousal</th>\n",
       "    </tr>\n",
       "  </thead>\n",
       "  <tbody>\n",
       "    <tr>\n",
       "      <th>15316</th>\n",
       "      <td>765800</td>\n",
       "      <td>4.948</td>\n",
       "      <td>5</td>\n",
       "      <td>5.0</td>\n",
       "      <td>5.001</td>\n",
       "      <td>4.949262</td>\n",
       "      <td>-0.007233</td>\n",
       "      <td>4.956495</td>\n",
       "      <td>LL</td>\n",
       "      <td>L</td>\n",
       "    </tr>\n",
       "    <tr>\n",
       "      <th>15317</th>\n",
       "      <td>765850</td>\n",
       "      <td>4.948</td>\n",
       "      <td>5</td>\n",
       "      <td>5.0</td>\n",
       "      <td>5.000</td>\n",
       "      <td>4.950045</td>\n",
       "      <td>-0.006510</td>\n",
       "      <td>4.956555</td>\n",
       "      <td>LL</td>\n",
       "      <td>L</td>\n",
       "    </tr>\n",
       "    <tr>\n",
       "      <th>15318</th>\n",
       "      <td>765900</td>\n",
       "      <td>4.956</td>\n",
       "      <td>5</td>\n",
       "      <td>5.0</td>\n",
       "      <td>5.000</td>\n",
       "      <td>4.949724</td>\n",
       "      <td>-0.006894</td>\n",
       "      <td>4.956618</td>\n",
       "      <td>LL</td>\n",
       "      <td>L</td>\n",
       "    </tr>\n",
       "    <tr>\n",
       "      <th>15319</th>\n",
       "      <td>765950</td>\n",
       "      <td>4.941</td>\n",
       "      <td>5</td>\n",
       "      <td>5.0</td>\n",
       "      <td>5.000</td>\n",
       "      <td>4.949175</td>\n",
       "      <td>-0.007509</td>\n",
       "      <td>4.956684</td>\n",
       "      <td>LL</td>\n",
       "      <td>L</td>\n",
       "    </tr>\n",
       "    <tr>\n",
       "      <th>15320</th>\n",
       "      <td>766000</td>\n",
       "      <td>4.948</td>\n",
       "      <td>5</td>\n",
       "      <td>5.0</td>\n",
       "      <td>5.000</td>\n",
       "      <td>4.949311</td>\n",
       "      <td>-0.007441</td>\n",
       "      <td>4.956752</td>\n",
       "      <td>LL</td>\n",
       "      <td>L</td>\n",
       "    </tr>\n",
       "    <tr>\n",
       "      <th>...</th>\n",
       "      <td>...</td>\n",
       "      <td>...</td>\n",
       "      <td>...</td>\n",
       "      <td>...</td>\n",
       "      <td>...</td>\n",
       "      <td>...</td>\n",
       "      <td>...</td>\n",
       "      <td>...</td>\n",
       "      <td>...</td>\n",
       "      <td>...</td>\n",
       "    </tr>\n",
       "    <tr>\n",
       "      <th>46627</th>\n",
       "      <td>2331350</td>\n",
       "      <td>6.959</td>\n",
       "      <td>8</td>\n",
       "      <td>0.5</td>\n",
       "      <td>9.500</td>\n",
       "      <td>6.945963</td>\n",
       "      <td>0.031642</td>\n",
       "      <td>6.914321</td>\n",
       "      <td>LH</td>\n",
       "      <td>H</td>\n",
       "    </tr>\n",
       "    <tr>\n",
       "      <th>46628</th>\n",
       "      <td>2331400</td>\n",
       "      <td>6.943</td>\n",
       "      <td>8</td>\n",
       "      <td>0.5</td>\n",
       "      <td>9.500</td>\n",
       "      <td>6.947660</td>\n",
       "      <td>0.031422</td>\n",
       "      <td>6.916238</td>\n",
       "      <td>LH</td>\n",
       "      <td>H</td>\n",
       "    </tr>\n",
       "    <tr>\n",
       "      <th>46629</th>\n",
       "      <td>2331450</td>\n",
       "      <td>6.943</td>\n",
       "      <td>8</td>\n",
       "      <td>0.5</td>\n",
       "      <td>9.500</td>\n",
       "      <td>6.949633</td>\n",
       "      <td>0.031482</td>\n",
       "      <td>6.918151</td>\n",
       "      <td>LH</td>\n",
       "      <td>H</td>\n",
       "    </tr>\n",
       "    <tr>\n",
       "      <th>46630</th>\n",
       "      <td>2331500</td>\n",
       "      <td>6.963</td>\n",
       "      <td>8</td>\n",
       "      <td>0.5</td>\n",
       "      <td>9.500</td>\n",
       "      <td>6.952043</td>\n",
       "      <td>0.031983</td>\n",
       "      <td>6.920061</td>\n",
       "      <td>LH</td>\n",
       "      <td>H</td>\n",
       "    </tr>\n",
       "    <tr>\n",
       "      <th>46631</th>\n",
       "      <td>2331550</td>\n",
       "      <td>6.951</td>\n",
       "      <td>8</td>\n",
       "      <td>0.5</td>\n",
       "      <td>9.500</td>\n",
       "      <td>6.955233</td>\n",
       "      <td>0.033266</td>\n",
       "      <td>6.921967</td>\n",
       "      <td>LH</td>\n",
       "      <td>H</td>\n",
       "    </tr>\n",
       "  </tbody>\n",
       "</table>\n",
       "<p>12652 rows × 10 columns</p>\n",
       "</div>"
      ],
      "text/plain": [
       "          time    gsr  video  valence  arousal  EDA_Clean  EDA_Phasic  \\\n",
       "15316   765800  4.948      5      5.0    5.001   4.949262   -0.007233   \n",
       "15317   765850  4.948      5      5.0    5.000   4.950045   -0.006510   \n",
       "15318   765900  4.956      5      5.0    5.000   4.949724   -0.006894   \n",
       "15319   765950  4.941      5      5.0    5.000   4.949175   -0.007509   \n",
       "15320   766000  4.948      5      5.0    5.000   4.949311   -0.007441   \n",
       "...        ...    ...    ...      ...      ...        ...         ...   \n",
       "46627  2331350  6.959      8      0.5    9.500   6.945963    0.031642   \n",
       "46628  2331400  6.943      8      0.5    9.500   6.947660    0.031422   \n",
       "46629  2331450  6.943      8      0.5    9.500   6.949633    0.031482   \n",
       "46630  2331500  6.963      8      0.5    9.500   6.952043    0.031983   \n",
       "46631  2331550  6.951      8      0.5    9.500   6.955233    0.033266   \n",
       "\n",
       "       EDA_Tonic class_4 class_2_arousal  \n",
       "15316   4.956495      LL               L  \n",
       "15317   4.956555      LL               L  \n",
       "15318   4.956618      LL               L  \n",
       "15319   4.956684      LL               L  \n",
       "15320   4.956752      LL               L  \n",
       "...          ...     ...             ...  \n",
       "46627   6.914321      LH               H  \n",
       "46628   6.916238      LH               H  \n",
       "46629   6.918151      LH               H  \n",
       "46630   6.920061      LH               H  \n",
       "46631   6.921967      LH               H  \n",
       "\n",
       "[12652 rows x 10 columns]"
      ]
     },
     "execution_count": 3,
     "metadata": {},
     "output_type": "execute_result"
    }
   ],
   "source": [
    "# Selecting the videos\n",
    "data = pd.read_csv(\"../preprocessed_data/sub_1.csv\")\n",
    "data = data[data[\"video\"].isin([5,6,7,8])]\n",
    "data"
   ]
  },
  {
   "cell_type": "code",
   "execution_count": 4,
   "metadata": {},
   "outputs": [],
   "source": [
    "from eda_helper import Processing"
   ]
  },
  {
   "cell_type": "code",
   "execution_count": 4,
   "metadata": {},
   "outputs": [],
   "source": [
    "def prepare_windows_with_labels(\n",
    "    data,\n",
    "    x_column=\"EDA_Phasic\",\n",
    "    y_columns=[\"arousal\", \"valence\"],\n",
    "    y_aggregator = \"mean\",\n",
    "    window_size=100,\n",
    "    window_gap=1,\n",
    "):\n",
    "    # prepare the x column\n",
    "    x_df = Processing.generate_windows_df(data, window_size, window_gap, x_column)\n",
    "    \n",
    "    # prepare the y columns\n",
    "    y_dfs = []\n",
    "    for y_column in tqdm(y_columns, desc=\"Preparing Y Columns:\"):\n",
    "        y_df = Processing.generate_windows_df(data, window_size, window_gap, y_column)\n",
    "        # Handle the aggregation based on the type of y_aggregator\n",
    "        if isinstance(y_aggregator, str): # for standard functions\n",
    "            y_df = y_df.agg(y_aggregator, axis=1)\n",
    "        else:\n",
    "            # For custom functions, use apply to avoid the FutureWarning\n",
    "            y_df = y_df.apply(y_aggregator, axis=1)\n",
    "        assert type(y_df) == pd.Series\n",
    "        y_dfs.append(y_df)\n",
    "    y_df = pd.concat(y_dfs, axis=1)\n",
    "    y_df.columns = y_columns\n",
    "    \n",
    "    assert x_df.shape[0] == y_df.shape[0]\n",
    "    # merge the x and y columns\n",
    "    final_df = pd.concat([x_df,y_df], axis=1)\n",
    "    \n",
    "    \n",
    "    return final_df"
   ]
  },
  {
   "cell_type": "code",
   "execution_count": 19,
   "metadata": {},
   "outputs": [
    {
     "data": {
      "application/vnd.jupyter.widget-view+json": {
       "model_id": "830cbec101d74e97b7173dddaa3e545e",
       "version_major": 2,
       "version_minor": 0
      },
      "text/plain": [
       "generating window:   0%|          | 0/1166 [00:00<?, ?it/s]"
      ]
     },
     "metadata": {},
     "output_type": "display_data"
    },
    {
     "data": {
      "application/vnd.jupyter.widget-view+json": {
       "model_id": "8d0054641e454dcd8584168cdbf33b0e",
       "version_major": 2,
       "version_minor": 0
      },
      "text/plain": [
       "preparing dataframe:   0%|          | 0/1166 [00:00<?, ?it/s]"
      ]
     },
     "metadata": {},
     "output_type": "display_data"
    },
    {
     "data": {
      "application/vnd.jupyter.widget-view+json": {
       "model_id": "550feb5c98444ff39d563c4559f70028",
       "version_major": 2,
       "version_minor": 0
      },
      "text/plain": [
       "Preparing Y Columns::   0%|          | 0/2 [00:00<?, ?it/s]"
      ]
     },
     "metadata": {},
     "output_type": "display_data"
    },
    {
     "data": {
      "application/vnd.jupyter.widget-view+json": {
       "model_id": "2b263accc08a44e0b27131db0ceedc52",
       "version_major": 2,
       "version_minor": 0
      },
      "text/plain": [
       "generating window:   0%|          | 0/1166 [00:00<?, ?it/s]"
      ]
     },
     "metadata": {},
     "output_type": "display_data"
    },
    {
     "data": {
      "application/vnd.jupyter.widget-view+json": {
       "model_id": "f5e3417784ba4361b790b73cc2fc16c7",
       "version_major": 2,
       "version_minor": 0
      },
      "text/plain": [
       "preparing dataframe:   0%|          | 0/1166 [00:00<?, ?it/s]"
      ]
     },
     "metadata": {},
     "output_type": "display_data"
    },
    {
     "data": {
      "application/vnd.jupyter.widget-view+json": {
       "model_id": "5277753bf9d84f9f954f7d7c2983cb73",
       "version_major": 2,
       "version_minor": 0
      },
      "text/plain": [
       "generating window:   0%|          | 0/1166 [00:00<?, ?it/s]"
      ]
     },
     "metadata": {},
     "output_type": "display_data"
    },
    {
     "data": {
      "application/vnd.jupyter.widget-view+json": {
       "model_id": "c2368d31f0cb44dcae2fcd7191df86ea",
       "version_major": 2,
       "version_minor": 0
      },
      "text/plain": [
       "preparing dataframe:   0%|          | 0/1166 [00:00<?, ?it/s]"
      ]
     },
     "metadata": {},
     "output_type": "display_data"
    },
    {
     "data": {
      "text/html": [
       "<div>\n",
       "<style scoped>\n",
       "    .dataframe tbody tr th:only-of-type {\n",
       "        vertical-align: middle;\n",
       "    }\n",
       "\n",
       "    .dataframe tbody tr th {\n",
       "        vertical-align: top;\n",
       "    }\n",
       "\n",
       "    .dataframe thead th {\n",
       "        text-align: right;\n",
       "    }\n",
       "</style>\n",
       "<table border=\"1\" class=\"dataframe\">\n",
       "  <thead>\n",
       "    <tr style=\"text-align: right;\">\n",
       "      <th></th>\n",
       "      <th>0</th>\n",
       "      <th>1</th>\n",
       "      <th>2</th>\n",
       "      <th>3</th>\n",
       "      <th>4</th>\n",
       "      <th>5</th>\n",
       "      <th>6</th>\n",
       "      <th>7</th>\n",
       "      <th>8</th>\n",
       "      <th>9</th>\n",
       "      <th>...</th>\n",
       "      <th>992</th>\n",
       "      <th>993</th>\n",
       "      <th>994</th>\n",
       "      <th>995</th>\n",
       "      <th>996</th>\n",
       "      <th>997</th>\n",
       "      <th>998</th>\n",
       "      <th>999</th>\n",
       "      <th>arousal</th>\n",
       "      <th>valence</th>\n",
       "    </tr>\n",
       "  </thead>\n",
       "  <tbody>\n",
       "    <tr>\n",
       "      <th>0</th>\n",
       "      <td>-0.007233</td>\n",
       "      <td>-0.006510</td>\n",
       "      <td>-0.006894</td>\n",
       "      <td>-0.007509</td>\n",
       "      <td>-0.007441</td>\n",
       "      <td>-0.006344</td>\n",
       "      <td>-0.004470</td>\n",
       "      <td>-0.002445</td>\n",
       "      <td>-0.001062</td>\n",
       "      <td>-0.000864</td>\n",
       "      <td>...</td>\n",
       "      <td>0.010275</td>\n",
       "      <td>0.008484</td>\n",
       "      <td>0.004010</td>\n",
       "      <td>-0.001352</td>\n",
       "      <td>-0.005302</td>\n",
       "      <td>-0.006350</td>\n",
       "      <td>-0.004834</td>\n",
       "      <td>-0.002673</td>\n",
       "      <td>5.141530</td>\n",
       "      <td>6.412159</td>\n",
       "    </tr>\n",
       "    <tr>\n",
       "      <th>1</th>\n",
       "      <td>-0.001541</td>\n",
       "      <td>-0.001984</td>\n",
       "      <td>-0.001299</td>\n",
       "      <td>0.000297</td>\n",
       "      <td>0.001781</td>\n",
       "      <td>0.002320</td>\n",
       "      <td>0.001702</td>\n",
       "      <td>-0.000122</td>\n",
       "      <td>-0.003381</td>\n",
       "      <td>-0.007966</td>\n",
       "      <td>...</td>\n",
       "      <td>-0.003525</td>\n",
       "      <td>-0.004101</td>\n",
       "      <td>-0.004728</td>\n",
       "      <td>-0.006666</td>\n",
       "      <td>-0.009757</td>\n",
       "      <td>-0.011684</td>\n",
       "      <td>-0.010140</td>\n",
       "      <td>-0.005744</td>\n",
       "      <td>5.148399</td>\n",
       "      <td>6.432559</td>\n",
       "    </tr>\n",
       "    <tr>\n",
       "      <th>2</th>\n",
       "      <td>-0.012788</td>\n",
       "      <td>-0.016167</td>\n",
       "      <td>-0.016986</td>\n",
       "      <td>-0.015372</td>\n",
       "      <td>-0.012361</td>\n",
       "      <td>-0.009118</td>\n",
       "      <td>-0.006437</td>\n",
       "      <td>-0.004718</td>\n",
       "      <td>-0.004080</td>\n",
       "      <td>-0.004366</td>\n",
       "      <td>...</td>\n",
       "      <td>-0.005526</td>\n",
       "      <td>-0.008589</td>\n",
       "      <td>-0.007832</td>\n",
       "      <td>-0.002902</td>\n",
       "      <td>0.003421</td>\n",
       "      <td>0.007661</td>\n",
       "      <td>0.008121</td>\n",
       "      <td>0.005642</td>\n",
       "      <td>5.155256</td>\n",
       "      <td>6.452959</td>\n",
       "    </tr>\n",
       "    <tr>\n",
       "      <th>3</th>\n",
       "      <td>-0.005165</td>\n",
       "      <td>-0.006050</td>\n",
       "      <td>-0.006993</td>\n",
       "      <td>-0.008515</td>\n",
       "      <td>-0.011206</td>\n",
       "      <td>-0.014866</td>\n",
       "      <td>-0.018067</td>\n",
       "      <td>-0.018772</td>\n",
       "      <td>-0.015728</td>\n",
       "      <td>-0.009645</td>\n",
       "      <td>...</td>\n",
       "      <td>0.003343</td>\n",
       "      <td>0.006879</td>\n",
       "      <td>0.009599</td>\n",
       "      <td>0.009001</td>\n",
       "      <td>0.004394</td>\n",
       "      <td>-0.002442</td>\n",
       "      <td>-0.008262</td>\n",
       "      <td>-0.010377</td>\n",
       "      <td>5.161762</td>\n",
       "      <td>6.473359</td>\n",
       "    </tr>\n",
       "    <tr>\n",
       "      <th>4</th>\n",
       "      <td>-0.003178</td>\n",
       "      <td>0.000469</td>\n",
       "      <td>-0.000587</td>\n",
       "      <td>-0.005911</td>\n",
       "      <td>-0.013149</td>\n",
       "      <td>-0.019224</td>\n",
       "      <td>-0.021576</td>\n",
       "      <td>-0.019236</td>\n",
       "      <td>-0.013406</td>\n",
       "      <td>-0.006905</td>\n",
       "      <td>...</td>\n",
       "      <td>0.000977</td>\n",
       "      <td>0.003420</td>\n",
       "      <td>0.003423</td>\n",
       "      <td>0.002077</td>\n",
       "      <td>0.001111</td>\n",
       "      <td>0.001855</td>\n",
       "      <td>0.004171</td>\n",
       "      <td>0.006164</td>\n",
       "      <td>5.167885</td>\n",
       "      <td>6.493759</td>\n",
       "    </tr>\n",
       "    <tr>\n",
       "      <th>...</th>\n",
       "      <td>...</td>\n",
       "      <td>...</td>\n",
       "      <td>...</td>\n",
       "      <td>...</td>\n",
       "      <td>...</td>\n",
       "      <td>...</td>\n",
       "      <td>...</td>\n",
       "      <td>...</td>\n",
       "      <td>...</td>\n",
       "      <td>...</td>\n",
       "      <td>...</td>\n",
       "      <td>...</td>\n",
       "      <td>...</td>\n",
       "      <td>...</td>\n",
       "      <td>...</td>\n",
       "      <td>...</td>\n",
       "      <td>...</td>\n",
       "      <td>...</td>\n",
       "      <td>...</td>\n",
       "      <td>...</td>\n",
       "      <td>...</td>\n",
       "    </tr>\n",
       "    <tr>\n",
       "      <th>1161</th>\n",
       "      <td>0.007006</td>\n",
       "      <td>0.008394</td>\n",
       "      <td>0.007688</td>\n",
       "      <td>0.005164</td>\n",
       "      <td>0.002299</td>\n",
       "      <td>0.000631</td>\n",
       "      <td>0.000588</td>\n",
       "      <td>0.001251</td>\n",
       "      <td>0.001285</td>\n",
       "      <td>0.000269</td>\n",
       "      <td>...</td>\n",
       "      <td>-0.008030</td>\n",
       "      <td>-0.003020</td>\n",
       "      <td>0.000396</td>\n",
       "      <td>0.002740</td>\n",
       "      <td>0.004739</td>\n",
       "      <td>0.006983</td>\n",
       "      <td>0.009881</td>\n",
       "      <td>0.013422</td>\n",
       "      <td>9.125338</td>\n",
       "      <td>0.667743</td>\n",
       "    </tr>\n",
       "    <tr>\n",
       "      <th>1162</th>\n",
       "      <td>-0.000692</td>\n",
       "      <td>0.000313</td>\n",
       "      <td>0.004355</td>\n",
       "      <td>0.010318</td>\n",
       "      <td>0.015089</td>\n",
       "      <td>0.015391</td>\n",
       "      <td>0.010087</td>\n",
       "      <td>0.001209</td>\n",
       "      <td>-0.007132</td>\n",
       "      <td>-0.011168</td>\n",
       "      <td>...</td>\n",
       "      <td>0.020051</td>\n",
       "      <td>0.019413</td>\n",
       "      <td>0.018707</td>\n",
       "      <td>0.019049</td>\n",
       "      <td>0.020701</td>\n",
       "      <td>0.023237</td>\n",
       "      <td>0.025982</td>\n",
       "      <td>0.028161</td>\n",
       "      <td>9.144088</td>\n",
       "      <td>0.657443</td>\n",
       "    </tr>\n",
       "    <tr>\n",
       "      <th>1163</th>\n",
       "      <td>-0.009547</td>\n",
       "      <td>-0.003830</td>\n",
       "      <td>0.002577</td>\n",
       "      <td>0.006179</td>\n",
       "      <td>0.005049</td>\n",
       "      <td>-0.000092</td>\n",
       "      <td>-0.005913</td>\n",
       "      <td>-0.008196</td>\n",
       "      <td>-0.004688</td>\n",
       "      <td>0.003010</td>\n",
       "      <td>...</td>\n",
       "      <td>0.027219</td>\n",
       "      <td>0.026918</td>\n",
       "      <td>0.028548</td>\n",
       "      <td>0.031852</td>\n",
       "      <td>0.035676</td>\n",
       "      <td>0.038993</td>\n",
       "      <td>0.041527</td>\n",
       "      <td>0.043554</td>\n",
       "      <td>9.162838</td>\n",
       "      <td>0.647143</td>\n",
       "    </tr>\n",
       "    <tr>\n",
       "      <th>1164</th>\n",
       "      <td>0.010338</td>\n",
       "      <td>0.012887</td>\n",
       "      <td>0.009097</td>\n",
       "      <td>0.000747</td>\n",
       "      <td>-0.008393</td>\n",
       "      <td>-0.014402</td>\n",
       "      <td>-0.014828</td>\n",
       "      <td>-0.009704</td>\n",
       "      <td>-0.001520</td>\n",
       "      <td>0.005965</td>\n",
       "      <td>...</td>\n",
       "      <td>0.046588</td>\n",
       "      <td>0.044947</td>\n",
       "      <td>0.041489</td>\n",
       "      <td>0.036982</td>\n",
       "      <td>0.032918</td>\n",
       "      <td>0.030758</td>\n",
       "      <td>0.031047</td>\n",
       "      <td>0.033082</td>\n",
       "      <td>9.181588</td>\n",
       "      <td>0.636843</td>\n",
       "    </tr>\n",
       "    <tr>\n",
       "      <th>1165</th>\n",
       "      <td>0.009523</td>\n",
       "      <td>0.007968</td>\n",
       "      <td>0.002617</td>\n",
       "      <td>-0.003611</td>\n",
       "      <td>-0.007880</td>\n",
       "      <td>-0.008845</td>\n",
       "      <td>-0.007004</td>\n",
       "      <td>-0.003943</td>\n",
       "      <td>-0.001087</td>\n",
       "      <td>0.001143</td>\n",
       "      <td>...</td>\n",
       "      <td>0.036440</td>\n",
       "      <td>0.035312</td>\n",
       "      <td>0.033978</td>\n",
       "      <td>0.032879</td>\n",
       "      <td>0.032114</td>\n",
       "      <td>0.031642</td>\n",
       "      <td>0.031422</td>\n",
       "      <td>0.031482</td>\n",
       "      <td>9.200338</td>\n",
       "      <td>0.626543</td>\n",
       "    </tr>\n",
       "  </tbody>\n",
       "</table>\n",
       "<p>1166 rows × 1002 columns</p>\n",
       "</div>"
      ],
      "text/plain": [
       "             0         1         2         3         4         5         6  \\\n",
       "0    -0.007233 -0.006510 -0.006894 -0.007509 -0.007441 -0.006344 -0.004470   \n",
       "1    -0.001541 -0.001984 -0.001299  0.000297  0.001781  0.002320  0.001702   \n",
       "2    -0.012788 -0.016167 -0.016986 -0.015372 -0.012361 -0.009118 -0.006437   \n",
       "3    -0.005165 -0.006050 -0.006993 -0.008515 -0.011206 -0.014866 -0.018067   \n",
       "4    -0.003178  0.000469 -0.000587 -0.005911 -0.013149 -0.019224 -0.021576   \n",
       "...        ...       ...       ...       ...       ...       ...       ...   \n",
       "1161  0.007006  0.008394  0.007688  0.005164  0.002299  0.000631  0.000588   \n",
       "1162 -0.000692  0.000313  0.004355  0.010318  0.015089  0.015391  0.010087   \n",
       "1163 -0.009547 -0.003830  0.002577  0.006179  0.005049 -0.000092 -0.005913   \n",
       "1164  0.010338  0.012887  0.009097  0.000747 -0.008393 -0.014402 -0.014828   \n",
       "1165  0.009523  0.007968  0.002617 -0.003611 -0.007880 -0.008845 -0.007004   \n",
       "\n",
       "             7         8         9  ...       992       993       994  \\\n",
       "0    -0.002445 -0.001062 -0.000864  ...  0.010275  0.008484  0.004010   \n",
       "1    -0.000122 -0.003381 -0.007966  ... -0.003525 -0.004101 -0.004728   \n",
       "2    -0.004718 -0.004080 -0.004366  ... -0.005526 -0.008589 -0.007832   \n",
       "3    -0.018772 -0.015728 -0.009645  ...  0.003343  0.006879  0.009599   \n",
       "4    -0.019236 -0.013406 -0.006905  ...  0.000977  0.003420  0.003423   \n",
       "...        ...       ...       ...  ...       ...       ...       ...   \n",
       "1161  0.001251  0.001285  0.000269  ... -0.008030 -0.003020  0.000396   \n",
       "1162  0.001209 -0.007132 -0.011168  ...  0.020051  0.019413  0.018707   \n",
       "1163 -0.008196 -0.004688  0.003010  ...  0.027219  0.026918  0.028548   \n",
       "1164 -0.009704 -0.001520  0.005965  ...  0.046588  0.044947  0.041489   \n",
       "1165 -0.003943 -0.001087  0.001143  ...  0.036440  0.035312  0.033978   \n",
       "\n",
       "           995       996       997       998       999   arousal   valence  \n",
       "0    -0.001352 -0.005302 -0.006350 -0.004834 -0.002673  5.141530  6.412159  \n",
       "1    -0.006666 -0.009757 -0.011684 -0.010140 -0.005744  5.148399  6.432559  \n",
       "2    -0.002902  0.003421  0.007661  0.008121  0.005642  5.155256  6.452959  \n",
       "3     0.009001  0.004394 -0.002442 -0.008262 -0.010377  5.161762  6.473359  \n",
       "4     0.002077  0.001111  0.001855  0.004171  0.006164  5.167885  6.493759  \n",
       "...        ...       ...       ...       ...       ...       ...       ...  \n",
       "1161  0.002740  0.004739  0.006983  0.009881  0.013422  9.125338  0.667743  \n",
       "1162  0.019049  0.020701  0.023237  0.025982  0.028161  9.144088  0.657443  \n",
       "1163  0.031852  0.035676  0.038993  0.041527  0.043554  9.162838  0.647143  \n",
       "1164  0.036982  0.032918  0.030758  0.031047  0.033082  9.181588  0.636843  \n",
       "1165  0.032879  0.032114  0.031642  0.031422  0.031482  9.200338  0.626543  \n",
       "\n",
       "[1166 rows x 1002 columns]"
      ]
     },
     "execution_count": 19,
     "metadata": {},
     "output_type": "execute_result"
    }
   ],
   "source": [
    "test = prepare_windows_with_labels(data,y_aggregator=lambda x: x.mean(), window_size=1000, window_gap=10)\n",
    "test"
   ]
  },
  {
   "cell_type": "code",
   "execution_count": 20,
   "metadata": {},
   "outputs": [
    {
     "data": {
      "text/html": [
       "<div>\n",
       "<style scoped>\n",
       "    .dataframe tbody tr th:only-of-type {\n",
       "        vertical-align: middle;\n",
       "    }\n",
       "\n",
       "    .dataframe tbody tr th {\n",
       "        vertical-align: top;\n",
       "    }\n",
       "\n",
       "    .dataframe thead th {\n",
       "        text-align: right;\n",
       "    }\n",
       "</style>\n",
       "<table border=\"1\" class=\"dataframe\">\n",
       "  <thead>\n",
       "    <tr style=\"text-align: right;\">\n",
       "      <th></th>\n",
       "      <th>0</th>\n",
       "      <th>1</th>\n",
       "      <th>2</th>\n",
       "      <th>3</th>\n",
       "      <th>4</th>\n",
       "      <th>5</th>\n",
       "      <th>6</th>\n",
       "      <th>7</th>\n",
       "      <th>8</th>\n",
       "      <th>9</th>\n",
       "      <th>...</th>\n",
       "      <th>992</th>\n",
       "      <th>993</th>\n",
       "      <th>994</th>\n",
       "      <th>995</th>\n",
       "      <th>996</th>\n",
       "      <th>997</th>\n",
       "      <th>998</th>\n",
       "      <th>999</th>\n",
       "      <th>arousal</th>\n",
       "      <th>valence</th>\n",
       "    </tr>\n",
       "  </thead>\n",
       "  <tbody>\n",
       "    <tr>\n",
       "      <th>888</th>\n",
       "      <td>-0.000570</td>\n",
       "      <td>-0.000291</td>\n",
       "      <td>-0.000494</td>\n",
       "      <td>-0.000736</td>\n",
       "      <td>-0.000172</td>\n",
       "      <td>0.001054</td>\n",
       "      <td>0.001577</td>\n",
       "      <td>0.000096</td>\n",
       "      <td>-0.003128</td>\n",
       "      <td>-0.006145</td>\n",
       "      <td>...</td>\n",
       "      <td>0.020719</td>\n",
       "      <td>0.021362</td>\n",
       "      <td>0.020380</td>\n",
       "      <td>0.017897</td>\n",
       "      <td>0.014232</td>\n",
       "      <td>0.010166</td>\n",
       "      <td>0.006979</td>\n",
       "      <td>0.005867</td>\n",
       "      <td>5.089513</td>\n",
       "      <td>5.045914</td>\n",
       "    </tr>\n",
       "    <tr>\n",
       "      <th>971</th>\n",
       "      <td>0.003698</td>\n",
       "      <td>-0.000541</td>\n",
       "      <td>-0.002270</td>\n",
       "      <td>-0.000529</td>\n",
       "      <td>0.002849</td>\n",
       "      <td>0.004512</td>\n",
       "      <td>0.002204</td>\n",
       "      <td>-0.003522</td>\n",
       "      <td>-0.009744</td>\n",
       "      <td>-0.013149</td>\n",
       "      <td>...</td>\n",
       "      <td>0.012140</td>\n",
       "      <td>0.012625</td>\n",
       "      <td>0.009336</td>\n",
       "      <td>0.003191</td>\n",
       "      <td>-0.003438</td>\n",
       "      <td>-0.007708</td>\n",
       "      <td>-0.007842</td>\n",
       "      <td>-0.004265</td>\n",
       "      <td>5.689108</td>\n",
       "      <td>4.238079</td>\n",
       "    </tr>\n",
       "    <tr>\n",
       "      <th>85</th>\n",
       "      <td>-0.004251</td>\n",
       "      <td>-0.005391</td>\n",
       "      <td>-0.004171</td>\n",
       "      <td>-0.001660</td>\n",
       "      <td>0.000406</td>\n",
       "      <td>0.000672</td>\n",
       "      <td>-0.001397</td>\n",
       "      <td>-0.005235</td>\n",
       "      <td>-0.009052</td>\n",
       "      <td>-0.010691</td>\n",
       "      <td>...</td>\n",
       "      <td>0.006259</td>\n",
       "      <td>0.005597</td>\n",
       "      <td>0.004604</td>\n",
       "      <td>0.003431</td>\n",
       "      <td>0.002638</td>\n",
       "      <td>0.002491</td>\n",
       "      <td>0.002281</td>\n",
       "      <td>0.000993</td>\n",
       "      <td>5.758000</td>\n",
       "      <td>5.379658</td>\n",
       "    </tr>\n",
       "    <tr>\n",
       "      <th>256</th>\n",
       "      <td>-0.001557</td>\n",
       "      <td>-0.004096</td>\n",
       "      <td>-0.005082</td>\n",
       "      <td>-0.003697</td>\n",
       "      <td>-0.000726</td>\n",
       "      <td>0.001855</td>\n",
       "      <td>0.002231</td>\n",
       "      <td>0.000336</td>\n",
       "      <td>-0.001748</td>\n",
       "      <td>-0.001367</td>\n",
       "      <td>...</td>\n",
       "      <td>0.007485</td>\n",
       "      <td>0.008622</td>\n",
       "      <td>0.008788</td>\n",
       "      <td>0.008199</td>\n",
       "      <td>0.006827</td>\n",
       "      <td>0.005032</td>\n",
       "      <td>0.004002</td>\n",
       "      <td>0.004946</td>\n",
       "      <td>6.003528</td>\n",
       "      <td>4.569692</td>\n",
       "    </tr>\n",
       "    <tr>\n",
       "      <th>383</th>\n",
       "      <td>0.031191</td>\n",
       "      <td>0.033272</td>\n",
       "      <td>0.034741</td>\n",
       "      <td>0.035142</td>\n",
       "      <td>0.034723</td>\n",
       "      <td>0.034544</td>\n",
       "      <td>0.035590</td>\n",
       "      <td>0.037612</td>\n",
       "      <td>0.039000</td>\n",
       "      <td>0.037917</td>\n",
       "      <td>...</td>\n",
       "      <td>0.060317</td>\n",
       "      <td>0.056429</td>\n",
       "      <td>0.052155</td>\n",
       "      <td>0.046773</td>\n",
       "      <td>0.040956</td>\n",
       "      <td>0.036233</td>\n",
       "      <td>0.033752</td>\n",
       "      <td>0.033471</td>\n",
       "      <td>9.125821</td>\n",
       "      <td>1.308326</td>\n",
       "    </tr>\n",
       "  </tbody>\n",
       "</table>\n",
       "<p>5 rows × 1002 columns</p>\n",
       "</div>"
      ],
      "text/plain": [
       "            0         1         2         3         4         5         6  \\\n",
       "888 -0.000570 -0.000291 -0.000494 -0.000736 -0.000172  0.001054  0.001577   \n",
       "971  0.003698 -0.000541 -0.002270 -0.000529  0.002849  0.004512  0.002204   \n",
       "85  -0.004251 -0.005391 -0.004171 -0.001660  0.000406  0.000672 -0.001397   \n",
       "256 -0.001557 -0.004096 -0.005082 -0.003697 -0.000726  0.001855  0.002231   \n",
       "383  0.031191  0.033272  0.034741  0.035142  0.034723  0.034544  0.035590   \n",
       "\n",
       "            7         8         9  ...       992       993       994  \\\n",
       "888  0.000096 -0.003128 -0.006145  ...  0.020719  0.021362  0.020380   \n",
       "971 -0.003522 -0.009744 -0.013149  ...  0.012140  0.012625  0.009336   \n",
       "85  -0.005235 -0.009052 -0.010691  ...  0.006259  0.005597  0.004604   \n",
       "256  0.000336 -0.001748 -0.001367  ...  0.007485  0.008622  0.008788   \n",
       "383  0.037612  0.039000  0.037917  ...  0.060317  0.056429  0.052155   \n",
       "\n",
       "          995       996       997       998       999   arousal   valence  \n",
       "888  0.017897  0.014232  0.010166  0.006979  0.005867  5.089513  5.045914  \n",
       "971  0.003191 -0.003438 -0.007708 -0.007842 -0.004265  5.689108  4.238079  \n",
       "85   0.003431  0.002638  0.002491  0.002281  0.000993  5.758000  5.379658  \n",
       "256  0.008199  0.006827  0.005032  0.004002  0.004946  6.003528  4.569692  \n",
       "383  0.046773  0.040956  0.036233  0.033752  0.033471  9.125821  1.308326  \n",
       "\n",
       "[5 rows x 1002 columns]"
      ]
     },
     "execution_count": 20,
     "metadata": {},
     "output_type": "execute_result"
    }
   ],
   "source": [
    "test.sample(5)"
   ]
  },
  {
   "cell_type": "markdown",
   "metadata": {},
   "source": [
    "### Apply to all subjects"
   ]
  },
  {
   "cell_type": "code",
   "execution_count": 5,
   "metadata": {},
   "outputs": [
    {
     "data": {
      "application/vnd.jupyter.widget-view+json": {
       "model_id": "a0fe395cac5d45c8bf498747f052c89b",
       "version_major": 2,
       "version_minor": 0
      },
      "text/plain": [
       "  0%|          | 0/30 [00:00<?, ?it/s]"
      ]
     },
     "metadata": {},
     "output_type": "display_data"
    },
    {
     "data": {
      "application/vnd.jupyter.widget-view+json": {
       "model_id": "d6e5b341417043cd99e6972c189624f6",
       "version_major": 2,
       "version_minor": 0
      },
      "text/plain": [
       "generating window:   0%|          | 0/12553 [00:00<?, ?it/s]"
      ]
     },
     "metadata": {},
     "output_type": "display_data"
    },
    {
     "data": {
      "application/vnd.jupyter.widget-view+json": {
       "model_id": "f9af91130f6e4c0188ec90383618fa9b",
       "version_major": 2,
       "version_minor": 0
      },
      "text/plain": [
       "preparing dataframe:   0%|          | 0/12553 [00:00<?, ?it/s]"
      ]
     },
     "metadata": {},
     "output_type": "display_data"
    },
    {
     "data": {
      "application/vnd.jupyter.widget-view+json": {
       "model_id": "3d221a1813c444e2a1ca6f340f6329dc",
       "version_major": 2,
       "version_minor": 0
      },
      "text/plain": [
       "Preparing Y Columns::   0%|          | 0/2 [00:00<?, ?it/s]"
      ]
     },
     "metadata": {},
     "output_type": "display_data"
    },
    {
     "data": {
      "application/vnd.jupyter.widget-view+json": {
       "model_id": "8b0c33f22f8f4fd8ba0122052bc28b53",
       "version_major": 2,
       "version_minor": 0
      },
      "text/plain": [
       "generating window:   0%|          | 0/12553 [00:00<?, ?it/s]"
      ]
     },
     "metadata": {},
     "output_type": "display_data"
    },
    {
     "data": {
      "application/vnd.jupyter.widget-view+json": {
       "model_id": "7d03d6c9b48b47908ed9d74a027cd852",
       "version_major": 2,
       "version_minor": 0
      },
      "text/plain": [
       "preparing dataframe:   0%|          | 0/12553 [00:00<?, ?it/s]"
      ]
     },
     "metadata": {},
     "output_type": "display_data"
    },
    {
     "data": {
      "application/vnd.jupyter.widget-view+json": {
       "model_id": "aa0178e1c6ac437ab02d1933220d61e8",
       "version_major": 2,
       "version_minor": 0
      },
      "text/plain": [
       "generating window:   0%|          | 0/12553 [00:00<?, ?it/s]"
      ]
     },
     "metadata": {},
     "output_type": "display_data"
    },
    {
     "data": {
      "application/vnd.jupyter.widget-view+json": {
       "model_id": "47807ab71d49405ba3f9a1c66688c74c",
       "version_major": 2,
       "version_minor": 0
      },
      "text/plain": [
       "preparing dataframe:   0%|          | 0/12553 [00:00<?, ?it/s]"
      ]
     },
     "metadata": {},
     "output_type": "display_data"
    },
    {
     "data": {
      "application/vnd.jupyter.widget-view+json": {
       "model_id": "4fa6f1f17a8146e983f6d4e2b5ca5e92",
       "version_major": 2,
       "version_minor": 0
      },
      "text/plain": [
       "generating window:   0%|          | 0/12553 [00:00<?, ?it/s]"
      ]
     },
     "metadata": {},
     "output_type": "display_data"
    },
    {
     "data": {
      "application/vnd.jupyter.widget-view+json": {
       "model_id": "1cc30d985b274b59aa80536e1a48f33d",
       "version_major": 2,
       "version_minor": 0
      },
      "text/plain": [
       "preparing dataframe:   0%|          | 0/12553 [00:00<?, ?it/s]"
      ]
     },
     "metadata": {},
     "output_type": "display_data"
    },
    {
     "data": {
      "application/vnd.jupyter.widget-view+json": {
       "model_id": "be0c46c40e5640f997a352a1dc9d809a",
       "version_major": 2,
       "version_minor": 0
      },
      "text/plain": [
       "Preparing Y Columns::   0%|          | 0/2 [00:00<?, ?it/s]"
      ]
     },
     "metadata": {},
     "output_type": "display_data"
    },
    {
     "data": {
      "application/vnd.jupyter.widget-view+json": {
       "model_id": "570b63c1967d4b4b8d1849626a1ec99e",
       "version_major": 2,
       "version_minor": 0
      },
      "text/plain": [
       "generating window:   0%|          | 0/12553 [00:00<?, ?it/s]"
      ]
     },
     "metadata": {},
     "output_type": "display_data"
    },
    {
     "data": {
      "application/vnd.jupyter.widget-view+json": {
       "model_id": "97bc7aefa2134e608b6e67dae5542aac",
       "version_major": 2,
       "version_minor": 0
      },
      "text/plain": [
       "preparing dataframe:   0%|          | 0/12553 [00:00<?, ?it/s]"
      ]
     },
     "metadata": {},
     "output_type": "display_data"
    },
    {
     "data": {
      "application/vnd.jupyter.widget-view+json": {
       "model_id": "5ad6dae8d543482ab2e3ef26bbec396b",
       "version_major": 2,
       "version_minor": 0
      },
      "text/plain": [
       "generating window:   0%|          | 0/12553 [00:00<?, ?it/s]"
      ]
     },
     "metadata": {},
     "output_type": "display_data"
    },
    {
     "data": {
      "application/vnd.jupyter.widget-view+json": {
       "model_id": "0f0ae00c32254f14b45caa1759e043b5",
       "version_major": 2,
       "version_minor": 0
      },
      "text/plain": [
       "preparing dataframe:   0%|          | 0/12553 [00:00<?, ?it/s]"
      ]
     },
     "metadata": {},
     "output_type": "display_data"
    },
    {
     "data": {
      "application/vnd.jupyter.widget-view+json": {
       "model_id": "3599fdce2d2e486ab855f66e3dc24852",
       "version_major": 2,
       "version_minor": 0
      },
      "text/plain": [
       "generating window:   0%|          | 0/12553 [00:00<?, ?it/s]"
      ]
     },
     "metadata": {},
     "output_type": "display_data"
    },
    {
     "data": {
      "application/vnd.jupyter.widget-view+json": {
       "model_id": "c5ff56e273e54d498b172d876c1055fc",
       "version_major": 2,
       "version_minor": 0
      },
      "text/plain": [
       "preparing dataframe:   0%|          | 0/12553 [00:00<?, ?it/s]"
      ]
     },
     "metadata": {},
     "output_type": "display_data"
    },
    {
     "data": {
      "application/vnd.jupyter.widget-view+json": {
       "model_id": "3113dbcf156c4d139578617c4b683ddc",
       "version_major": 2,
       "version_minor": 0
      },
      "text/plain": [
       "Preparing Y Columns::   0%|          | 0/2 [00:00<?, ?it/s]"
      ]
     },
     "metadata": {},
     "output_type": "display_data"
    },
    {
     "data": {
      "application/vnd.jupyter.widget-view+json": {
       "model_id": "61e9e929d32c420387be8d058db58c4c",
       "version_major": 2,
       "version_minor": 0
      },
      "text/plain": [
       "generating window:   0%|          | 0/12553 [00:00<?, ?it/s]"
      ]
     },
     "metadata": {},
     "output_type": "display_data"
    },
    {
     "data": {
      "application/vnd.jupyter.widget-view+json": {
       "model_id": "9307a9b9c02243a59738393c145a3e4a",
       "version_major": 2,
       "version_minor": 0
      },
      "text/plain": [
       "preparing dataframe:   0%|          | 0/12553 [00:00<?, ?it/s]"
      ]
     },
     "metadata": {},
     "output_type": "display_data"
    },
    {
     "data": {
      "application/vnd.jupyter.widget-view+json": {
       "model_id": "57c819f30df24589acf5d0c2bf6b97cc",
       "version_major": 2,
       "version_minor": 0
      },
      "text/plain": [
       "generating window:   0%|          | 0/12553 [00:00<?, ?it/s]"
      ]
     },
     "metadata": {},
     "output_type": "display_data"
    },
    {
     "data": {
      "application/vnd.jupyter.widget-view+json": {
       "model_id": "e1a23d3e5a804e8d909d5414d9475af0",
       "version_major": 2,
       "version_minor": 0
      },
      "text/plain": [
       "preparing dataframe:   0%|          | 0/12553 [00:00<?, ?it/s]"
      ]
     },
     "metadata": {},
     "output_type": "display_data"
    },
    {
     "data": {
      "application/vnd.jupyter.widget-view+json": {
       "model_id": "b3394522e77e4156a6ca0747003917f9",
       "version_major": 2,
       "version_minor": 0
      },
      "text/plain": [
       "generating window:   0%|          | 0/12554 [00:00<?, ?it/s]"
      ]
     },
     "metadata": {},
     "output_type": "display_data"
    },
    {
     "data": {
      "application/vnd.jupyter.widget-view+json": {
       "model_id": "7c4311783af742c395a2aea797b0a945",
       "version_major": 2,
       "version_minor": 0
      },
      "text/plain": [
       "preparing dataframe:   0%|          | 0/12554 [00:00<?, ?it/s]"
      ]
     },
     "metadata": {},
     "output_type": "display_data"
    },
    {
     "data": {
      "application/vnd.jupyter.widget-view+json": {
       "model_id": "0fb62b6487844d24af6267d544ed88d3",
       "version_major": 2,
       "version_minor": 0
      },
      "text/plain": [
       "Preparing Y Columns::   0%|          | 0/2 [00:00<?, ?it/s]"
      ]
     },
     "metadata": {},
     "output_type": "display_data"
    },
    {
     "data": {
      "application/vnd.jupyter.widget-view+json": {
       "model_id": "7e511b36d9d04ef59c212efa48ad5c8e",
       "version_major": 2,
       "version_minor": 0
      },
      "text/plain": [
       "generating window:   0%|          | 0/12554 [00:00<?, ?it/s]"
      ]
     },
     "metadata": {},
     "output_type": "display_data"
    },
    {
     "data": {
      "application/vnd.jupyter.widget-view+json": {
       "model_id": "e0bfd5faa33c4caebd483f8c0d4f7186",
       "version_major": 2,
       "version_minor": 0
      },
      "text/plain": [
       "preparing dataframe:   0%|          | 0/12554 [00:00<?, ?it/s]"
      ]
     },
     "metadata": {},
     "output_type": "display_data"
    },
    {
     "data": {
      "application/vnd.jupyter.widget-view+json": {
       "model_id": "abcbc97e798f4dae8a4268ffe2cc7676",
       "version_major": 2,
       "version_minor": 0
      },
      "text/plain": [
       "generating window:   0%|          | 0/12554 [00:00<?, ?it/s]"
      ]
     },
     "metadata": {},
     "output_type": "display_data"
    },
    {
     "data": {
      "application/vnd.jupyter.widget-view+json": {
       "model_id": "f95a48d7c4e14b71af9eae6cf2ca8ce9",
       "version_major": 2,
       "version_minor": 0
      },
      "text/plain": [
       "preparing dataframe:   0%|          | 0/12554 [00:00<?, ?it/s]"
      ]
     },
     "metadata": {},
     "output_type": "display_data"
    },
    {
     "data": {
      "application/vnd.jupyter.widget-view+json": {
       "model_id": "773c2f98aef44c51977e2c5100677ad6",
       "version_major": 2,
       "version_minor": 0
      },
      "text/plain": [
       "generating window:   0%|          | 0/12554 [00:00<?, ?it/s]"
      ]
     },
     "metadata": {},
     "output_type": "display_data"
    },
    {
     "data": {
      "application/vnd.jupyter.widget-view+json": {
       "model_id": "43e351f850604abfae744c9ba2ae082b",
       "version_major": 2,
       "version_minor": 0
      },
      "text/plain": [
       "preparing dataframe:   0%|          | 0/12554 [00:00<?, ?it/s]"
      ]
     },
     "metadata": {},
     "output_type": "display_data"
    },
    {
     "data": {
      "application/vnd.jupyter.widget-view+json": {
       "model_id": "16c7bf4b83ab4a4787a09359c4e76505",
       "version_major": 2,
       "version_minor": 0
      },
      "text/plain": [
       "Preparing Y Columns::   0%|          | 0/2 [00:00<?, ?it/s]"
      ]
     },
     "metadata": {},
     "output_type": "display_data"
    },
    {
     "data": {
      "application/vnd.jupyter.widget-view+json": {
       "model_id": "841572fe08c84474b3bad80c7b302403",
       "version_major": 2,
       "version_minor": 0
      },
      "text/plain": [
       "generating window:   0%|          | 0/12554 [00:00<?, ?it/s]"
      ]
     },
     "metadata": {},
     "output_type": "display_data"
    },
    {
     "data": {
      "application/vnd.jupyter.widget-view+json": {
       "model_id": "5c71291a84c845f08a43c76585895bcc",
       "version_major": 2,
       "version_minor": 0
      },
      "text/plain": [
       "preparing dataframe:   0%|          | 0/12554 [00:00<?, ?it/s]"
      ]
     },
     "metadata": {},
     "output_type": "display_data"
    },
    {
     "data": {
      "application/vnd.jupyter.widget-view+json": {
       "model_id": "6bdbc93d04fa47439321d54506bdac1b",
       "version_major": 2,
       "version_minor": 0
      },
      "text/plain": [
       "generating window:   0%|          | 0/12554 [00:00<?, ?it/s]"
      ]
     },
     "metadata": {},
     "output_type": "display_data"
    },
    {
     "data": {
      "application/vnd.jupyter.widget-view+json": {
       "model_id": "70ef4cfb1ede4b978b3d47f528869ad3",
       "version_major": 2,
       "version_minor": 0
      },
      "text/plain": [
       "preparing dataframe:   0%|          | 0/12554 [00:00<?, ?it/s]"
      ]
     },
     "metadata": {},
     "output_type": "display_data"
    },
    {
     "data": {
      "application/vnd.jupyter.widget-view+json": {
       "model_id": "f81e9aa498cb40f5b5810287eaa7e91c",
       "version_major": 2,
       "version_minor": 0
      },
      "text/plain": [
       "generating window:   0%|          | 0/12554 [00:00<?, ?it/s]"
      ]
     },
     "metadata": {},
     "output_type": "display_data"
    },
    {
     "data": {
      "application/vnd.jupyter.widget-view+json": {
       "model_id": "9ec24858f4b44939be9f22672332edb2",
       "version_major": 2,
       "version_minor": 0
      },
      "text/plain": [
       "preparing dataframe:   0%|          | 0/12554 [00:00<?, ?it/s]"
      ]
     },
     "metadata": {},
     "output_type": "display_data"
    },
    {
     "data": {
      "application/vnd.jupyter.widget-view+json": {
       "model_id": "fb8f2699340d40c8b1d2443a8ab5135f",
       "version_major": 2,
       "version_minor": 0
      },
      "text/plain": [
       "Preparing Y Columns::   0%|          | 0/2 [00:00<?, ?it/s]"
      ]
     },
     "metadata": {},
     "output_type": "display_data"
    },
    {
     "data": {
      "application/vnd.jupyter.widget-view+json": {
       "model_id": "7e80a5457e85460a853ad210cb772a6c",
       "version_major": 2,
       "version_minor": 0
      },
      "text/plain": [
       "generating window:   0%|          | 0/12554 [00:00<?, ?it/s]"
      ]
     },
     "metadata": {},
     "output_type": "display_data"
    },
    {
     "data": {
      "application/vnd.jupyter.widget-view+json": {
       "model_id": "fd8fc71a84124d61ae52c8c6778d9151",
       "version_major": 2,
       "version_minor": 0
      },
      "text/plain": [
       "preparing dataframe:   0%|          | 0/12554 [00:00<?, ?it/s]"
      ]
     },
     "metadata": {},
     "output_type": "display_data"
    },
    {
     "data": {
      "application/vnd.jupyter.widget-view+json": {
       "model_id": "de12e23470444adab4efd5dec00f7890",
       "version_major": 2,
       "version_minor": 0
      },
      "text/plain": [
       "generating window:   0%|          | 0/12554 [00:00<?, ?it/s]"
      ]
     },
     "metadata": {},
     "output_type": "display_data"
    },
    {
     "data": {
      "application/vnd.jupyter.widget-view+json": {
       "model_id": "75061186d33c40a89e7e53dec01e013f",
       "version_major": 2,
       "version_minor": 0
      },
      "text/plain": [
       "preparing dataframe:   0%|          | 0/12554 [00:00<?, ?it/s]"
      ]
     },
     "metadata": {},
     "output_type": "display_data"
    },
    {
     "data": {
      "application/vnd.jupyter.widget-view+json": {
       "model_id": "eac34ff25b064911a42c6bdccdd87eca",
       "version_major": 2,
       "version_minor": 0
      },
      "text/plain": [
       "generating window:   0%|          | 0/12553 [00:00<?, ?it/s]"
      ]
     },
     "metadata": {},
     "output_type": "display_data"
    },
    {
     "data": {
      "application/vnd.jupyter.widget-view+json": {
       "model_id": "9512386c934846b3953f34403950a6f0",
       "version_major": 2,
       "version_minor": 0
      },
      "text/plain": [
       "preparing dataframe:   0%|          | 0/12553 [00:00<?, ?it/s]"
      ]
     },
     "metadata": {},
     "output_type": "display_data"
    },
    {
     "data": {
      "application/vnd.jupyter.widget-view+json": {
       "model_id": "45dd4bcea599449899bf07207fe05d62",
       "version_major": 2,
       "version_minor": 0
      },
      "text/plain": [
       "Preparing Y Columns::   0%|          | 0/2 [00:00<?, ?it/s]"
      ]
     },
     "metadata": {},
     "output_type": "display_data"
    },
    {
     "data": {
      "application/vnd.jupyter.widget-view+json": {
       "model_id": "283e918f8a42439db5e0e0839ebf3ba6",
       "version_major": 2,
       "version_minor": 0
      },
      "text/plain": [
       "generating window:   0%|          | 0/12553 [00:00<?, ?it/s]"
      ]
     },
     "metadata": {},
     "output_type": "display_data"
    },
    {
     "data": {
      "application/vnd.jupyter.widget-view+json": {
       "model_id": "8debbc94b9dc4759b285d47218621248",
       "version_major": 2,
       "version_minor": 0
      },
      "text/plain": [
       "preparing dataframe:   0%|          | 0/12553 [00:00<?, ?it/s]"
      ]
     },
     "metadata": {},
     "output_type": "display_data"
    },
    {
     "data": {
      "application/vnd.jupyter.widget-view+json": {
       "model_id": "a9590bb0ad1841a9a72d9831332d545f",
       "version_major": 2,
       "version_minor": 0
      },
      "text/plain": [
       "generating window:   0%|          | 0/12553 [00:00<?, ?it/s]"
      ]
     },
     "metadata": {},
     "output_type": "display_data"
    },
    {
     "data": {
      "application/vnd.jupyter.widget-view+json": {
       "model_id": "f12fd50fef7345d2bb17be2926011ffe",
       "version_major": 2,
       "version_minor": 0
      },
      "text/plain": [
       "preparing dataframe:   0%|          | 0/12553 [00:00<?, ?it/s]"
      ]
     },
     "metadata": {},
     "output_type": "display_data"
    },
    {
     "data": {
      "application/vnd.jupyter.widget-view+json": {
       "model_id": "6a4810b6165d46d6a1b47b67f2ced87b",
       "version_major": 2,
       "version_minor": 0
      },
      "text/plain": [
       "generating window:   0%|          | 0/12553 [00:00<?, ?it/s]"
      ]
     },
     "metadata": {},
     "output_type": "display_data"
    },
    {
     "data": {
      "application/vnd.jupyter.widget-view+json": {
       "model_id": "e3054f43ffae40c7968b69b7b76afded",
       "version_major": 2,
       "version_minor": 0
      },
      "text/plain": [
       "preparing dataframe:   0%|          | 0/12553 [00:00<?, ?it/s]"
      ]
     },
     "metadata": {},
     "output_type": "display_data"
    },
    {
     "data": {
      "application/vnd.jupyter.widget-view+json": {
       "model_id": "641f4001269d4ac6b9b7fde818c8e095",
       "version_major": 2,
       "version_minor": 0
      },
      "text/plain": [
       "Preparing Y Columns::   0%|          | 0/2 [00:00<?, ?it/s]"
      ]
     },
     "metadata": {},
     "output_type": "display_data"
    },
    {
     "data": {
      "application/vnd.jupyter.widget-view+json": {
       "model_id": "c5f3e39b0f964751becf49c1cfad3b9c",
       "version_major": 2,
       "version_minor": 0
      },
      "text/plain": [
       "generating window:   0%|          | 0/12553 [00:00<?, ?it/s]"
      ]
     },
     "metadata": {},
     "output_type": "display_data"
    },
    {
     "data": {
      "application/vnd.jupyter.widget-view+json": {
       "model_id": "bacabd2d991d4631b80aa18ad7e8b583",
       "version_major": 2,
       "version_minor": 0
      },
      "text/plain": [
       "preparing dataframe:   0%|          | 0/12553 [00:00<?, ?it/s]"
      ]
     },
     "metadata": {},
     "output_type": "display_data"
    },
    {
     "data": {
      "application/vnd.jupyter.widget-view+json": {
       "model_id": "e33398d476aa46a2bd42a2bb6e779885",
       "version_major": 2,
       "version_minor": 0
      },
      "text/plain": [
       "generating window:   0%|          | 0/12553 [00:00<?, ?it/s]"
      ]
     },
     "metadata": {},
     "output_type": "display_data"
    },
    {
     "data": {
      "application/vnd.jupyter.widget-view+json": {
       "model_id": "122edad982c34b5181871397d6a36819",
       "version_major": 2,
       "version_minor": 0
      },
      "text/plain": [
       "preparing dataframe:   0%|          | 0/12553 [00:00<?, ?it/s]"
      ]
     },
     "metadata": {},
     "output_type": "display_data"
    },
    {
     "data": {
      "application/vnd.jupyter.widget-view+json": {
       "model_id": "5f660aaf8000468aa9724e4930610384",
       "version_major": 2,
       "version_minor": 0
      },
      "text/plain": [
       "generating window:   0%|          | 0/12554 [00:00<?, ?it/s]"
      ]
     },
     "metadata": {},
     "output_type": "display_data"
    },
    {
     "data": {
      "application/vnd.jupyter.widget-view+json": {
       "model_id": "43eaf146f8f24955ae3bead30f294008",
       "version_major": 2,
       "version_minor": 0
      },
      "text/plain": [
       "preparing dataframe:   0%|          | 0/12554 [00:00<?, ?it/s]"
      ]
     },
     "metadata": {},
     "output_type": "display_data"
    },
    {
     "data": {
      "application/vnd.jupyter.widget-view+json": {
       "model_id": "809960eab615439da92bd1e2c288d4d0",
       "version_major": 2,
       "version_minor": 0
      },
      "text/plain": [
       "Preparing Y Columns::   0%|          | 0/2 [00:00<?, ?it/s]"
      ]
     },
     "metadata": {},
     "output_type": "display_data"
    },
    {
     "data": {
      "application/vnd.jupyter.widget-view+json": {
       "model_id": "5f1a7d5daa7a49b6b8702e7f1429ea1b",
       "version_major": 2,
       "version_minor": 0
      },
      "text/plain": [
       "generating window:   0%|          | 0/12554 [00:00<?, ?it/s]"
      ]
     },
     "metadata": {},
     "output_type": "display_data"
    },
    {
     "data": {
      "application/vnd.jupyter.widget-view+json": {
       "model_id": "ffe00f9a31b445129b5a392695c4b1c6",
       "version_major": 2,
       "version_minor": 0
      },
      "text/plain": [
       "preparing dataframe:   0%|          | 0/12554 [00:00<?, ?it/s]"
      ]
     },
     "metadata": {},
     "output_type": "display_data"
    },
    {
     "data": {
      "application/vnd.jupyter.widget-view+json": {
       "model_id": "999bd2816c7c4fdb83575bf0ef907539",
       "version_major": 2,
       "version_minor": 0
      },
      "text/plain": [
       "generating window:   0%|          | 0/12554 [00:00<?, ?it/s]"
      ]
     },
     "metadata": {},
     "output_type": "display_data"
    },
    {
     "data": {
      "application/vnd.jupyter.widget-view+json": {
       "model_id": "9d8f44dbd3ea4f9e900aa7a931c8724a",
       "version_major": 2,
       "version_minor": 0
      },
      "text/plain": [
       "preparing dataframe:   0%|          | 0/12554 [00:00<?, ?it/s]"
      ]
     },
     "metadata": {},
     "output_type": "display_data"
    },
    {
     "data": {
      "application/vnd.jupyter.widget-view+json": {
       "model_id": "d9b5e210d0a646858fb60187abdc012f",
       "version_major": 2,
       "version_minor": 0
      },
      "text/plain": [
       "generating window:   0%|          | 0/12553 [00:00<?, ?it/s]"
      ]
     },
     "metadata": {},
     "output_type": "display_data"
    },
    {
     "data": {
      "application/vnd.jupyter.widget-view+json": {
       "model_id": "ab65e8b91fa945e0937ec2929b8cbe8d",
       "version_major": 2,
       "version_minor": 0
      },
      "text/plain": [
       "preparing dataframe:   0%|          | 0/12553 [00:00<?, ?it/s]"
      ]
     },
     "metadata": {},
     "output_type": "display_data"
    },
    {
     "data": {
      "application/vnd.jupyter.widget-view+json": {
       "model_id": "6cac569d0d894a428aac632ff8c329bc",
       "version_major": 2,
       "version_minor": 0
      },
      "text/plain": [
       "Preparing Y Columns::   0%|          | 0/2 [00:00<?, ?it/s]"
      ]
     },
     "metadata": {},
     "output_type": "display_data"
    },
    {
     "data": {
      "application/vnd.jupyter.widget-view+json": {
       "model_id": "68a61c6622c24a2c97a9855351147f9e",
       "version_major": 2,
       "version_minor": 0
      },
      "text/plain": [
       "generating window:   0%|          | 0/12553 [00:00<?, ?it/s]"
      ]
     },
     "metadata": {},
     "output_type": "display_data"
    },
    {
     "data": {
      "application/vnd.jupyter.widget-view+json": {
       "model_id": "2cca624bfe054e0f8ccaefeab92e99d5",
       "version_major": 2,
       "version_minor": 0
      },
      "text/plain": [
       "preparing dataframe:   0%|          | 0/12553 [00:00<?, ?it/s]"
      ]
     },
     "metadata": {},
     "output_type": "display_data"
    },
    {
     "data": {
      "application/vnd.jupyter.widget-view+json": {
       "model_id": "cdc9b4bc9e6b477db810fd0814cc935f",
       "version_major": 2,
       "version_minor": 0
      },
      "text/plain": [
       "generating window:   0%|          | 0/12553 [00:00<?, ?it/s]"
      ]
     },
     "metadata": {},
     "output_type": "display_data"
    },
    {
     "data": {
      "application/vnd.jupyter.widget-view+json": {
       "model_id": "fd1c65e0e33e48e4bd99a124aac5f4d7",
       "version_major": 2,
       "version_minor": 0
      },
      "text/plain": [
       "preparing dataframe:   0%|          | 0/12553 [00:00<?, ?it/s]"
      ]
     },
     "metadata": {},
     "output_type": "display_data"
    },
    {
     "data": {
      "application/vnd.jupyter.widget-view+json": {
       "model_id": "a3d1fcb688a34a18af2b1bc89e8d730d",
       "version_major": 2,
       "version_minor": 0
      },
      "text/plain": [
       "generating window:   0%|          | 0/12553 [00:00<?, ?it/s]"
      ]
     },
     "metadata": {},
     "output_type": "display_data"
    },
    {
     "data": {
      "application/vnd.jupyter.widget-view+json": {
       "model_id": "c73bdf9f30cf40dea5fbe449498836fb",
       "version_major": 2,
       "version_minor": 0
      },
      "text/plain": [
       "preparing dataframe:   0%|          | 0/12553 [00:00<?, ?it/s]"
      ]
     },
     "metadata": {},
     "output_type": "display_data"
    },
    {
     "data": {
      "application/vnd.jupyter.widget-view+json": {
       "model_id": "6121983d2ea94739a32604fcb2d8a2a6",
       "version_major": 2,
       "version_minor": 0
      },
      "text/plain": [
       "Preparing Y Columns::   0%|          | 0/2 [00:00<?, ?it/s]"
      ]
     },
     "metadata": {},
     "output_type": "display_data"
    },
    {
     "data": {
      "application/vnd.jupyter.widget-view+json": {
       "model_id": "5db8a98d91a041f28a9c441a69c207c1",
       "version_major": 2,
       "version_minor": 0
      },
      "text/plain": [
       "generating window:   0%|          | 0/12553 [00:00<?, ?it/s]"
      ]
     },
     "metadata": {},
     "output_type": "display_data"
    },
    {
     "data": {
      "application/vnd.jupyter.widget-view+json": {
       "model_id": "79544dde4a924d12baf788b76fca7063",
       "version_major": 2,
       "version_minor": 0
      },
      "text/plain": [
       "preparing dataframe:   0%|          | 0/12553 [00:00<?, ?it/s]"
      ]
     },
     "metadata": {},
     "output_type": "display_data"
    },
    {
     "data": {
      "application/vnd.jupyter.widget-view+json": {
       "model_id": "a1951c89c5df4b459394bbe3fe5d05b9",
       "version_major": 2,
       "version_minor": 0
      },
      "text/plain": [
       "generating window:   0%|          | 0/12553 [00:00<?, ?it/s]"
      ]
     },
     "metadata": {},
     "output_type": "display_data"
    },
    {
     "data": {
      "application/vnd.jupyter.widget-view+json": {
       "model_id": "b5720384c7464379bacd8296742f57dd",
       "version_major": 2,
       "version_minor": 0
      },
      "text/plain": [
       "preparing dataframe:   0%|          | 0/12553 [00:00<?, ?it/s]"
      ]
     },
     "metadata": {},
     "output_type": "display_data"
    },
    {
     "data": {
      "application/vnd.jupyter.widget-view+json": {
       "model_id": "437b4fc3f77743b6a8d1ea8b82c8187c",
       "version_major": 2,
       "version_minor": 0
      },
      "text/plain": [
       "generating window:   0%|          | 0/12553 [00:00<?, ?it/s]"
      ]
     },
     "metadata": {},
     "output_type": "display_data"
    },
    {
     "data": {
      "application/vnd.jupyter.widget-view+json": {
       "model_id": "e96a97050cc7400f9f79612e35e6c43f",
       "version_major": 2,
       "version_minor": 0
      },
      "text/plain": [
       "preparing dataframe:   0%|          | 0/12553 [00:00<?, ?it/s]"
      ]
     },
     "metadata": {},
     "output_type": "display_data"
    },
    {
     "data": {
      "application/vnd.jupyter.widget-view+json": {
       "model_id": "a22225f2524f40cda9a40a362654f17c",
       "version_major": 2,
       "version_minor": 0
      },
      "text/plain": [
       "Preparing Y Columns::   0%|          | 0/2 [00:00<?, ?it/s]"
      ]
     },
     "metadata": {},
     "output_type": "display_data"
    },
    {
     "data": {
      "application/vnd.jupyter.widget-view+json": {
       "model_id": "fb8e2388e72140cda839789a68015b5a",
       "version_major": 2,
       "version_minor": 0
      },
      "text/plain": [
       "generating window:   0%|          | 0/12553 [00:00<?, ?it/s]"
      ]
     },
     "metadata": {},
     "output_type": "display_data"
    },
    {
     "data": {
      "application/vnd.jupyter.widget-view+json": {
       "model_id": "cb8354d3a27c4ae48f1a76e1a2a3f3ab",
       "version_major": 2,
       "version_minor": 0
      },
      "text/plain": [
       "preparing dataframe:   0%|          | 0/12553 [00:00<?, ?it/s]"
      ]
     },
     "metadata": {},
     "output_type": "display_data"
    },
    {
     "data": {
      "application/vnd.jupyter.widget-view+json": {
       "model_id": "1d2d36849a1e429a95bf85b78aa92d61",
       "version_major": 2,
       "version_minor": 0
      },
      "text/plain": [
       "generating window:   0%|          | 0/12553 [00:00<?, ?it/s]"
      ]
     },
     "metadata": {},
     "output_type": "display_data"
    },
    {
     "data": {
      "application/vnd.jupyter.widget-view+json": {
       "model_id": "c0eb99d1384d473998eb29221fc370eb",
       "version_major": 2,
       "version_minor": 0
      },
      "text/plain": [
       "preparing dataframe:   0%|          | 0/12553 [00:00<?, ?it/s]"
      ]
     },
     "metadata": {},
     "output_type": "display_data"
    },
    {
     "data": {
      "application/vnd.jupyter.widget-view+json": {
       "model_id": "b239f1a97acc4e6ab33debb97c30e18b",
       "version_major": 2,
       "version_minor": 0
      },
      "text/plain": [
       "generating window:   0%|          | 0/12553 [00:00<?, ?it/s]"
      ]
     },
     "metadata": {},
     "output_type": "display_data"
    },
    {
     "data": {
      "application/vnd.jupyter.widget-view+json": {
       "model_id": "a26b2871515d4510ac1b9f29936df745",
       "version_major": 2,
       "version_minor": 0
      },
      "text/plain": [
       "preparing dataframe:   0%|          | 0/12553 [00:00<?, ?it/s]"
      ]
     },
     "metadata": {},
     "output_type": "display_data"
    },
    {
     "data": {
      "application/vnd.jupyter.widget-view+json": {
       "model_id": "9c3fff08028b41ec97a9bea64ea542c2",
       "version_major": 2,
       "version_minor": 0
      },
      "text/plain": [
       "Preparing Y Columns::   0%|          | 0/2 [00:00<?, ?it/s]"
      ]
     },
     "metadata": {},
     "output_type": "display_data"
    },
    {
     "data": {
      "application/vnd.jupyter.widget-view+json": {
       "model_id": "6ed44071aa05458e9394d90c28e169c1",
       "version_major": 2,
       "version_minor": 0
      },
      "text/plain": [
       "generating window:   0%|          | 0/12553 [00:00<?, ?it/s]"
      ]
     },
     "metadata": {},
     "output_type": "display_data"
    },
    {
     "data": {
      "application/vnd.jupyter.widget-view+json": {
       "model_id": "1ca7bebd0ca74e958009c37f608ef253",
       "version_major": 2,
       "version_minor": 0
      },
      "text/plain": [
       "preparing dataframe:   0%|          | 0/12553 [00:00<?, ?it/s]"
      ]
     },
     "metadata": {},
     "output_type": "display_data"
    },
    {
     "data": {
      "application/vnd.jupyter.widget-view+json": {
       "model_id": "1c1ca9db782040fab799f4ce54bf9b32",
       "version_major": 2,
       "version_minor": 0
      },
      "text/plain": [
       "generating window:   0%|          | 0/12553 [00:00<?, ?it/s]"
      ]
     },
     "metadata": {},
     "output_type": "display_data"
    },
    {
     "data": {
      "application/vnd.jupyter.widget-view+json": {
       "model_id": "01767b12c6a647b58c60e1c1f8c24b69",
       "version_major": 2,
       "version_minor": 0
      },
      "text/plain": [
       "preparing dataframe:   0%|          | 0/12553 [00:00<?, ?it/s]"
      ]
     },
     "metadata": {},
     "output_type": "display_data"
    },
    {
     "data": {
      "application/vnd.jupyter.widget-view+json": {
       "model_id": "8a70e323fd664b3cbe7c15e36f4dcae7",
       "version_major": 2,
       "version_minor": 0
      },
      "text/plain": [
       "generating window:   0%|          | 0/12553 [00:00<?, ?it/s]"
      ]
     },
     "metadata": {},
     "output_type": "display_data"
    },
    {
     "data": {
      "application/vnd.jupyter.widget-view+json": {
       "model_id": "cfb6f6e10fe14cfd98492f026056f857",
       "version_major": 2,
       "version_minor": 0
      },
      "text/plain": [
       "preparing dataframe:   0%|          | 0/12553 [00:00<?, ?it/s]"
      ]
     },
     "metadata": {},
     "output_type": "display_data"
    },
    {
     "data": {
      "application/vnd.jupyter.widget-view+json": {
       "model_id": "8fb0b4bbd75b4b00b5f14858acd5c78d",
       "version_major": 2,
       "version_minor": 0
      },
      "text/plain": [
       "Preparing Y Columns::   0%|          | 0/2 [00:00<?, ?it/s]"
      ]
     },
     "metadata": {},
     "output_type": "display_data"
    },
    {
     "data": {
      "application/vnd.jupyter.widget-view+json": {
       "model_id": "e4948ac3bb6644e6a2f73b603f955942",
       "version_major": 2,
       "version_minor": 0
      },
      "text/plain": [
       "generating window:   0%|          | 0/12553 [00:00<?, ?it/s]"
      ]
     },
     "metadata": {},
     "output_type": "display_data"
    },
    {
     "data": {
      "application/vnd.jupyter.widget-view+json": {
       "model_id": "50f22e624d784e90a7778e9346f4042b",
       "version_major": 2,
       "version_minor": 0
      },
      "text/plain": [
       "preparing dataframe:   0%|          | 0/12553 [00:00<?, ?it/s]"
      ]
     },
     "metadata": {},
     "output_type": "display_data"
    },
    {
     "data": {
      "application/vnd.jupyter.widget-view+json": {
       "model_id": "fdb83b7c0b0e4ca5a6502a6f71861285",
       "version_major": 2,
       "version_minor": 0
      },
      "text/plain": [
       "generating window:   0%|          | 0/12553 [00:00<?, ?it/s]"
      ]
     },
     "metadata": {},
     "output_type": "display_data"
    },
    {
     "data": {
      "application/vnd.jupyter.widget-view+json": {
       "model_id": "ba6fc2d6486641f7b5216b72f0811b54",
       "version_major": 2,
       "version_minor": 0
      },
      "text/plain": [
       "preparing dataframe:   0%|          | 0/12553 [00:00<?, ?it/s]"
      ]
     },
     "metadata": {},
     "output_type": "display_data"
    },
    {
     "data": {
      "application/vnd.jupyter.widget-view+json": {
       "model_id": "89afe3d2c40744508ef7f3afa8a3fe25",
       "version_major": 2,
       "version_minor": 0
      },
      "text/plain": [
       "generating window:   0%|          | 0/12553 [00:00<?, ?it/s]"
      ]
     },
     "metadata": {},
     "output_type": "display_data"
    },
    {
     "data": {
      "application/vnd.jupyter.widget-view+json": {
       "model_id": "676dab2b979a48d1a85239457eea2a44",
       "version_major": 2,
       "version_minor": 0
      },
      "text/plain": [
       "preparing dataframe:   0%|          | 0/12553 [00:00<?, ?it/s]"
      ]
     },
     "metadata": {},
     "output_type": "display_data"
    },
    {
     "data": {
      "application/vnd.jupyter.widget-view+json": {
       "model_id": "ddea1819eaa442eab1edf27c4dd770cd",
       "version_major": 2,
       "version_minor": 0
      },
      "text/plain": [
       "Preparing Y Columns::   0%|          | 0/2 [00:00<?, ?it/s]"
      ]
     },
     "metadata": {},
     "output_type": "display_data"
    },
    {
     "data": {
      "application/vnd.jupyter.widget-view+json": {
       "model_id": "c6ffac7bae36445890ae78e4af128324",
       "version_major": 2,
       "version_minor": 0
      },
      "text/plain": [
       "generating window:   0%|          | 0/12553 [00:00<?, ?it/s]"
      ]
     },
     "metadata": {},
     "output_type": "display_data"
    },
    {
     "data": {
      "application/vnd.jupyter.widget-view+json": {
       "model_id": "607d3d36499247ac99937a768f110bd8",
       "version_major": 2,
       "version_minor": 0
      },
      "text/plain": [
       "preparing dataframe:   0%|          | 0/12553 [00:00<?, ?it/s]"
      ]
     },
     "metadata": {},
     "output_type": "display_data"
    },
    {
     "data": {
      "application/vnd.jupyter.widget-view+json": {
       "model_id": "a0b9c78726a64641b49bb5631eeb2489",
       "version_major": 2,
       "version_minor": 0
      },
      "text/plain": [
       "generating window:   0%|          | 0/12553 [00:00<?, ?it/s]"
      ]
     },
     "metadata": {},
     "output_type": "display_data"
    },
    {
     "data": {
      "application/vnd.jupyter.widget-view+json": {
       "model_id": "df8b2d0047764085abebb66c553ee4d0",
       "version_major": 2,
       "version_minor": 0
      },
      "text/plain": [
       "preparing dataframe:   0%|          | 0/12553 [00:00<?, ?it/s]"
      ]
     },
     "metadata": {},
     "output_type": "display_data"
    },
    {
     "data": {
      "application/vnd.jupyter.widget-view+json": {
       "model_id": "a0156a3e2b59426d8375f6978e1030ec",
       "version_major": 2,
       "version_minor": 0
      },
      "text/plain": [
       "generating window:   0%|          | 0/12553 [00:00<?, ?it/s]"
      ]
     },
     "metadata": {},
     "output_type": "display_data"
    },
    {
     "data": {
      "application/vnd.jupyter.widget-view+json": {
       "model_id": "9f9534d68b6a4546a1652a54fd9eb402",
       "version_major": 2,
       "version_minor": 0
      },
      "text/plain": [
       "preparing dataframe:   0%|          | 0/12553 [00:00<?, ?it/s]"
      ]
     },
     "metadata": {},
     "output_type": "display_data"
    },
    {
     "data": {
      "application/vnd.jupyter.widget-view+json": {
       "model_id": "88c9b05406a848718f2b1b0ace55c772",
       "version_major": 2,
       "version_minor": 0
      },
      "text/plain": [
       "Preparing Y Columns::   0%|          | 0/2 [00:00<?, ?it/s]"
      ]
     },
     "metadata": {},
     "output_type": "display_data"
    },
    {
     "data": {
      "application/vnd.jupyter.widget-view+json": {
       "model_id": "72cf0f2abc5440c995de0f16c0a7760e",
       "version_major": 2,
       "version_minor": 0
      },
      "text/plain": [
       "generating window:   0%|          | 0/12553 [00:00<?, ?it/s]"
      ]
     },
     "metadata": {},
     "output_type": "display_data"
    },
    {
     "data": {
      "application/vnd.jupyter.widget-view+json": {
       "model_id": "c004fdb02aff484d8f17c6e61d64b106",
       "version_major": 2,
       "version_minor": 0
      },
      "text/plain": [
       "preparing dataframe:   0%|          | 0/12553 [00:00<?, ?it/s]"
      ]
     },
     "metadata": {},
     "output_type": "display_data"
    },
    {
     "data": {
      "application/vnd.jupyter.widget-view+json": {
       "model_id": "75b4e24d91524c86a3a4495ca07dc5e0",
       "version_major": 2,
       "version_minor": 0
      },
      "text/plain": [
       "generating window:   0%|          | 0/12553 [00:00<?, ?it/s]"
      ]
     },
     "metadata": {},
     "output_type": "display_data"
    },
    {
     "data": {
      "application/vnd.jupyter.widget-view+json": {
       "model_id": "80336f0938b54b04af0d7aec52b0f31a",
       "version_major": 2,
       "version_minor": 0
      },
      "text/plain": [
       "preparing dataframe:   0%|          | 0/12553 [00:00<?, ?it/s]"
      ]
     },
     "metadata": {},
     "output_type": "display_data"
    },
    {
     "data": {
      "application/vnd.jupyter.widget-view+json": {
       "model_id": "5a7964de91b74724b687eb2af97df2dc",
       "version_major": 2,
       "version_minor": 0
      },
      "text/plain": [
       "generating window:   0%|          | 0/12553 [00:00<?, ?it/s]"
      ]
     },
     "metadata": {},
     "output_type": "display_data"
    },
    {
     "data": {
      "application/vnd.jupyter.widget-view+json": {
       "model_id": "3da39d68cc5a4e25b57a37afc9c0af85",
       "version_major": 2,
       "version_minor": 0
      },
      "text/plain": [
       "preparing dataframe:   0%|          | 0/12553 [00:00<?, ?it/s]"
      ]
     },
     "metadata": {},
     "output_type": "display_data"
    },
    {
     "data": {
      "application/vnd.jupyter.widget-view+json": {
       "model_id": "4678f28d76f1471784d49c9e1e6336bb",
       "version_major": 2,
       "version_minor": 0
      },
      "text/plain": [
       "Preparing Y Columns::   0%|          | 0/2 [00:00<?, ?it/s]"
      ]
     },
     "metadata": {},
     "output_type": "display_data"
    },
    {
     "data": {
      "application/vnd.jupyter.widget-view+json": {
       "model_id": "6d549b54cb6b49cca61f060863809416",
       "version_major": 2,
       "version_minor": 0
      },
      "text/plain": [
       "generating window:   0%|          | 0/12553 [00:00<?, ?it/s]"
      ]
     },
     "metadata": {},
     "output_type": "display_data"
    },
    {
     "data": {
      "application/vnd.jupyter.widget-view+json": {
       "model_id": "f5cb399183a54585b3c48dab4df4837d",
       "version_major": 2,
       "version_minor": 0
      },
      "text/plain": [
       "preparing dataframe:   0%|          | 0/12553 [00:00<?, ?it/s]"
      ]
     },
     "metadata": {},
     "output_type": "display_data"
    },
    {
     "data": {
      "application/vnd.jupyter.widget-view+json": {
       "model_id": "e13b3f7cbc4f480bb15fb1823c626328",
       "version_major": 2,
       "version_minor": 0
      },
      "text/plain": [
       "generating window:   0%|          | 0/12553 [00:00<?, ?it/s]"
      ]
     },
     "metadata": {},
     "output_type": "display_data"
    },
    {
     "data": {
      "application/vnd.jupyter.widget-view+json": {
       "model_id": "9bc6e5e0ba30483cac678cb77b49ccde",
       "version_major": 2,
       "version_minor": 0
      },
      "text/plain": [
       "preparing dataframe:   0%|          | 0/12553 [00:00<?, ?it/s]"
      ]
     },
     "metadata": {},
     "output_type": "display_data"
    },
    {
     "data": {
      "application/vnd.jupyter.widget-view+json": {
       "model_id": "351cc7492c0f40a39de1913eacde3af4",
       "version_major": 2,
       "version_minor": 0
      },
      "text/plain": [
       "generating window:   0%|          | 0/12553 [00:00<?, ?it/s]"
      ]
     },
     "metadata": {},
     "output_type": "display_data"
    },
    {
     "data": {
      "application/vnd.jupyter.widget-view+json": {
       "model_id": "d76614eb3d8b4b00941be6d8a33e545a",
       "version_major": 2,
       "version_minor": 0
      },
      "text/plain": [
       "preparing dataframe:   0%|          | 0/12553 [00:00<?, ?it/s]"
      ]
     },
     "metadata": {},
     "output_type": "display_data"
    },
    {
     "data": {
      "application/vnd.jupyter.widget-view+json": {
       "model_id": "98a37e6fa402465ba96416b167b0a9fb",
       "version_major": 2,
       "version_minor": 0
      },
      "text/plain": [
       "Preparing Y Columns::   0%|          | 0/2 [00:00<?, ?it/s]"
      ]
     },
     "metadata": {},
     "output_type": "display_data"
    },
    {
     "data": {
      "application/vnd.jupyter.widget-view+json": {
       "model_id": "0022a5b6e65b4def92dd1b80f67884d9",
       "version_major": 2,
       "version_minor": 0
      },
      "text/plain": [
       "generating window:   0%|          | 0/12553 [00:00<?, ?it/s]"
      ]
     },
     "metadata": {},
     "output_type": "display_data"
    },
    {
     "data": {
      "application/vnd.jupyter.widget-view+json": {
       "model_id": "046cd6dfa4174ee28579a2fe7901b657",
       "version_major": 2,
       "version_minor": 0
      },
      "text/plain": [
       "preparing dataframe:   0%|          | 0/12553 [00:00<?, ?it/s]"
      ]
     },
     "metadata": {},
     "output_type": "display_data"
    },
    {
     "data": {
      "application/vnd.jupyter.widget-view+json": {
       "model_id": "cfc88ec6277544478725612c7cddc64f",
       "version_major": 2,
       "version_minor": 0
      },
      "text/plain": [
       "generating window:   0%|          | 0/12553 [00:00<?, ?it/s]"
      ]
     },
     "metadata": {},
     "output_type": "display_data"
    },
    {
     "data": {
      "application/vnd.jupyter.widget-view+json": {
       "model_id": "aaa07b1278d9417798d0d42adf35c996",
       "version_major": 2,
       "version_minor": 0
      },
      "text/plain": [
       "preparing dataframe:   0%|          | 0/12553 [00:00<?, ?it/s]"
      ]
     },
     "metadata": {},
     "output_type": "display_data"
    },
    {
     "data": {
      "application/vnd.jupyter.widget-view+json": {
       "model_id": "afaacdafe01a466fa4c7672bc306cc56",
       "version_major": 2,
       "version_minor": 0
      },
      "text/plain": [
       "generating window:   0%|          | 0/12553 [00:00<?, ?it/s]"
      ]
     },
     "metadata": {},
     "output_type": "display_data"
    },
    {
     "data": {
      "application/vnd.jupyter.widget-view+json": {
       "model_id": "2659f8289f2840599a5fb944aebcda62",
       "version_major": 2,
       "version_minor": 0
      },
      "text/plain": [
       "preparing dataframe:   0%|          | 0/12553 [00:00<?, ?it/s]"
      ]
     },
     "metadata": {},
     "output_type": "display_data"
    },
    {
     "data": {
      "application/vnd.jupyter.widget-view+json": {
       "model_id": "663b9f81a9fd47a88501046b978491b1",
       "version_major": 2,
       "version_minor": 0
      },
      "text/plain": [
       "Preparing Y Columns::   0%|          | 0/2 [00:00<?, ?it/s]"
      ]
     },
     "metadata": {},
     "output_type": "display_data"
    },
    {
     "data": {
      "application/vnd.jupyter.widget-view+json": {
       "model_id": "1fd0e60a31f646d18e7a0d30049521a1",
       "version_major": 2,
       "version_minor": 0
      },
      "text/plain": [
       "generating window:   0%|          | 0/12553 [00:00<?, ?it/s]"
      ]
     },
     "metadata": {},
     "output_type": "display_data"
    },
    {
     "data": {
      "application/vnd.jupyter.widget-view+json": {
       "model_id": "ec4b600a2e3947a0b9f51ca636893e28",
       "version_major": 2,
       "version_minor": 0
      },
      "text/plain": [
       "preparing dataframe:   0%|          | 0/12553 [00:00<?, ?it/s]"
      ]
     },
     "metadata": {},
     "output_type": "display_data"
    },
    {
     "data": {
      "application/vnd.jupyter.widget-view+json": {
       "model_id": "2b265a8cacbc47beaa7b120819120fb1",
       "version_major": 2,
       "version_minor": 0
      },
      "text/plain": [
       "generating window:   0%|          | 0/12553 [00:00<?, ?it/s]"
      ]
     },
     "metadata": {},
     "output_type": "display_data"
    },
    {
     "data": {
      "application/vnd.jupyter.widget-view+json": {
       "model_id": "a53010f27359419c8f7b1d11870c7539",
       "version_major": 2,
       "version_minor": 0
      },
      "text/plain": [
       "preparing dataframe:   0%|          | 0/12553 [00:00<?, ?it/s]"
      ]
     },
     "metadata": {},
     "output_type": "display_data"
    },
    {
     "data": {
      "application/vnd.jupyter.widget-view+json": {
       "model_id": "dfcea93d0d3240589b6c1c4751d8bad9",
       "version_major": 2,
       "version_minor": 0
      },
      "text/plain": [
       "generating window:   0%|          | 0/12553 [00:00<?, ?it/s]"
      ]
     },
     "metadata": {},
     "output_type": "display_data"
    },
    {
     "data": {
      "application/vnd.jupyter.widget-view+json": {
       "model_id": "604ff01b9027412fbf70415906982681",
       "version_major": 2,
       "version_minor": 0
      },
      "text/plain": [
       "preparing dataframe:   0%|          | 0/12553 [00:00<?, ?it/s]"
      ]
     },
     "metadata": {},
     "output_type": "display_data"
    },
    {
     "data": {
      "application/vnd.jupyter.widget-view+json": {
       "model_id": "00d3111c192b4ccd8bdc11c6838a87e5",
       "version_major": 2,
       "version_minor": 0
      },
      "text/plain": [
       "Preparing Y Columns::   0%|          | 0/2 [00:00<?, ?it/s]"
      ]
     },
     "metadata": {},
     "output_type": "display_data"
    },
    {
     "data": {
      "application/vnd.jupyter.widget-view+json": {
       "model_id": "1d4ad44f482746d98eb94a3d50f1c9c1",
       "version_major": 2,
       "version_minor": 0
      },
      "text/plain": [
       "generating window:   0%|          | 0/12553 [00:00<?, ?it/s]"
      ]
     },
     "metadata": {},
     "output_type": "display_data"
    },
    {
     "data": {
      "application/vnd.jupyter.widget-view+json": {
       "model_id": "cc9e4f20f45c423ead961e1bf0e802d2",
       "version_major": 2,
       "version_minor": 0
      },
      "text/plain": [
       "preparing dataframe:   0%|          | 0/12553 [00:00<?, ?it/s]"
      ]
     },
     "metadata": {},
     "output_type": "display_data"
    },
    {
     "data": {
      "application/vnd.jupyter.widget-view+json": {
       "model_id": "e57750ea8ddc45228f2b75102e869800",
       "version_major": 2,
       "version_minor": 0
      },
      "text/plain": [
       "generating window:   0%|          | 0/12553 [00:00<?, ?it/s]"
      ]
     },
     "metadata": {},
     "output_type": "display_data"
    },
    {
     "data": {
      "application/vnd.jupyter.widget-view+json": {
       "model_id": "0550b5f3d8fa45699f08679c8b238dbd",
       "version_major": 2,
       "version_minor": 0
      },
      "text/plain": [
       "preparing dataframe:   0%|          | 0/12553 [00:00<?, ?it/s]"
      ]
     },
     "metadata": {},
     "output_type": "display_data"
    },
    {
     "data": {
      "application/vnd.jupyter.widget-view+json": {
       "model_id": "6fde8fe6ae4f4567bab243f41ec0dbfd",
       "version_major": 2,
       "version_minor": 0
      },
      "text/plain": [
       "generating window:   0%|          | 0/12554 [00:00<?, ?it/s]"
      ]
     },
     "metadata": {},
     "output_type": "display_data"
    },
    {
     "data": {
      "application/vnd.jupyter.widget-view+json": {
       "model_id": "0d16bfb0779f47648068d25799e0a11a",
       "version_major": 2,
       "version_minor": 0
      },
      "text/plain": [
       "preparing dataframe:   0%|          | 0/12554 [00:00<?, ?it/s]"
      ]
     },
     "metadata": {},
     "output_type": "display_data"
    },
    {
     "data": {
      "application/vnd.jupyter.widget-view+json": {
       "model_id": "b837835144034c1cb2dba5e4ba14bbb4",
       "version_major": 2,
       "version_minor": 0
      },
      "text/plain": [
       "Preparing Y Columns::   0%|          | 0/2 [00:00<?, ?it/s]"
      ]
     },
     "metadata": {},
     "output_type": "display_data"
    },
    {
     "data": {
      "application/vnd.jupyter.widget-view+json": {
       "model_id": "09507e43ae354c18b531cc27aa6df21e",
       "version_major": 2,
       "version_minor": 0
      },
      "text/plain": [
       "generating window:   0%|          | 0/12554 [00:00<?, ?it/s]"
      ]
     },
     "metadata": {},
     "output_type": "display_data"
    },
    {
     "data": {
      "application/vnd.jupyter.widget-view+json": {
       "model_id": "b6bb32f64a31460b903405fc09c4a6b8",
       "version_major": 2,
       "version_minor": 0
      },
      "text/plain": [
       "preparing dataframe:   0%|          | 0/12554 [00:00<?, ?it/s]"
      ]
     },
     "metadata": {},
     "output_type": "display_data"
    },
    {
     "data": {
      "application/vnd.jupyter.widget-view+json": {
       "model_id": "41694814bbe24812a57f7c894d12b598",
       "version_major": 2,
       "version_minor": 0
      },
      "text/plain": [
       "generating window:   0%|          | 0/12554 [00:00<?, ?it/s]"
      ]
     },
     "metadata": {},
     "output_type": "display_data"
    },
    {
     "data": {
      "application/vnd.jupyter.widget-view+json": {
       "model_id": "e1826ff857c447479e17f345cb58eccb",
       "version_major": 2,
       "version_minor": 0
      },
      "text/plain": [
       "preparing dataframe:   0%|          | 0/12554 [00:00<?, ?it/s]"
      ]
     },
     "metadata": {},
     "output_type": "display_data"
    },
    {
     "data": {
      "application/vnd.jupyter.widget-view+json": {
       "model_id": "f97a52d65f3e4a37be6ff2583ccac644",
       "version_major": 2,
       "version_minor": 0
      },
      "text/plain": [
       "generating window:   0%|          | 0/12553 [00:00<?, ?it/s]"
      ]
     },
     "metadata": {},
     "output_type": "display_data"
    },
    {
     "data": {
      "application/vnd.jupyter.widget-view+json": {
       "model_id": "c2d2f0013b3f4096984594b2f8db46b1",
       "version_major": 2,
       "version_minor": 0
      },
      "text/plain": [
       "preparing dataframe:   0%|          | 0/12553 [00:00<?, ?it/s]"
      ]
     },
     "metadata": {},
     "output_type": "display_data"
    },
    {
     "data": {
      "application/vnd.jupyter.widget-view+json": {
       "model_id": "7b24e747f2724dabb028bd76fcb61248",
       "version_major": 2,
       "version_minor": 0
      },
      "text/plain": [
       "Preparing Y Columns::   0%|          | 0/2 [00:00<?, ?it/s]"
      ]
     },
     "metadata": {},
     "output_type": "display_data"
    },
    {
     "data": {
      "application/vnd.jupyter.widget-view+json": {
       "model_id": "30758ef6d1944372b5c2ef8fd7406871",
       "version_major": 2,
       "version_minor": 0
      },
      "text/plain": [
       "generating window:   0%|          | 0/12553 [00:00<?, ?it/s]"
      ]
     },
     "metadata": {},
     "output_type": "display_data"
    },
    {
     "data": {
      "application/vnd.jupyter.widget-view+json": {
       "model_id": "15996dbf6d204f278913851764405b59",
       "version_major": 2,
       "version_minor": 0
      },
      "text/plain": [
       "preparing dataframe:   0%|          | 0/12553 [00:00<?, ?it/s]"
      ]
     },
     "metadata": {},
     "output_type": "display_data"
    },
    {
     "data": {
      "application/vnd.jupyter.widget-view+json": {
       "model_id": "1724b9d603d444e19d19f808defc19ff",
       "version_major": 2,
       "version_minor": 0
      },
      "text/plain": [
       "generating window:   0%|          | 0/12553 [00:00<?, ?it/s]"
      ]
     },
     "metadata": {},
     "output_type": "display_data"
    },
    {
     "data": {
      "application/vnd.jupyter.widget-view+json": {
       "model_id": "3e82813b331f4d4cb894737c05731a95",
       "version_major": 2,
       "version_minor": 0
      },
      "text/plain": [
       "preparing dataframe:   0%|          | 0/12553 [00:00<?, ?it/s]"
      ]
     },
     "metadata": {},
     "output_type": "display_data"
    },
    {
     "data": {
      "application/vnd.jupyter.widget-view+json": {
       "model_id": "32adf3f0220845b583184abe497fff4e",
       "version_major": 2,
       "version_minor": 0
      },
      "text/plain": [
       "generating window:   0%|          | 0/12553 [00:00<?, ?it/s]"
      ]
     },
     "metadata": {},
     "output_type": "display_data"
    },
    {
     "data": {
      "application/vnd.jupyter.widget-view+json": {
       "model_id": "1e84e5c9f5b748d8bef66c342d59cc0b",
       "version_major": 2,
       "version_minor": 0
      },
      "text/plain": [
       "preparing dataframe:   0%|          | 0/12553 [00:00<?, ?it/s]"
      ]
     },
     "metadata": {},
     "output_type": "display_data"
    },
    {
     "data": {
      "application/vnd.jupyter.widget-view+json": {
       "model_id": "c5743e6d31254ebab4d1154181c60cf7",
       "version_major": 2,
       "version_minor": 0
      },
      "text/plain": [
       "Preparing Y Columns::   0%|          | 0/2 [00:00<?, ?it/s]"
      ]
     },
     "metadata": {},
     "output_type": "display_data"
    },
    {
     "data": {
      "application/vnd.jupyter.widget-view+json": {
       "model_id": "7cef87b94e8a4e42be87932164a18c26",
       "version_major": 2,
       "version_minor": 0
      },
      "text/plain": [
       "generating window:   0%|          | 0/12553 [00:00<?, ?it/s]"
      ]
     },
     "metadata": {},
     "output_type": "display_data"
    },
    {
     "data": {
      "application/vnd.jupyter.widget-view+json": {
       "model_id": "8346ce57484d48e7b7a58808781d0066",
       "version_major": 2,
       "version_minor": 0
      },
      "text/plain": [
       "preparing dataframe:   0%|          | 0/12553 [00:00<?, ?it/s]"
      ]
     },
     "metadata": {},
     "output_type": "display_data"
    },
    {
     "data": {
      "application/vnd.jupyter.widget-view+json": {
       "model_id": "970263301580432a93f5f177f7092733",
       "version_major": 2,
       "version_minor": 0
      },
      "text/plain": [
       "generating window:   0%|          | 0/12553 [00:00<?, ?it/s]"
      ]
     },
     "metadata": {},
     "output_type": "display_data"
    },
    {
     "data": {
      "application/vnd.jupyter.widget-view+json": {
       "model_id": "16976056c1cd4baea1d006ceadff0c90",
       "version_major": 2,
       "version_minor": 0
      },
      "text/plain": [
       "preparing dataframe:   0%|          | 0/12553 [00:00<?, ?it/s]"
      ]
     },
     "metadata": {},
     "output_type": "display_data"
    },
    {
     "data": {
      "application/vnd.jupyter.widget-view+json": {
       "model_id": "fe7a280507134703b210e07560793cd7",
       "version_major": 2,
       "version_minor": 0
      },
      "text/plain": [
       "generating window:   0%|          | 0/12553 [00:00<?, ?it/s]"
      ]
     },
     "metadata": {},
     "output_type": "display_data"
    },
    {
     "data": {
      "application/vnd.jupyter.widget-view+json": {
       "model_id": "c05e93b33efe40e382dcc0cc1792808d",
       "version_major": 2,
       "version_minor": 0
      },
      "text/plain": [
       "preparing dataframe:   0%|          | 0/12553 [00:00<?, ?it/s]"
      ]
     },
     "metadata": {},
     "output_type": "display_data"
    },
    {
     "data": {
      "application/vnd.jupyter.widget-view+json": {
       "model_id": "5bddf4deeede43109328a297668db7cf",
       "version_major": 2,
       "version_minor": 0
      },
      "text/plain": [
       "Preparing Y Columns::   0%|          | 0/2 [00:00<?, ?it/s]"
      ]
     },
     "metadata": {},
     "output_type": "display_data"
    },
    {
     "data": {
      "application/vnd.jupyter.widget-view+json": {
       "model_id": "8fc9ee3699884d60b752ebfc319d3a73",
       "version_major": 2,
       "version_minor": 0
      },
      "text/plain": [
       "generating window:   0%|          | 0/12553 [00:00<?, ?it/s]"
      ]
     },
     "metadata": {},
     "output_type": "display_data"
    },
    {
     "data": {
      "application/vnd.jupyter.widget-view+json": {
       "model_id": "3fa1e4e736da4a3fb45ff534ca61f840",
       "version_major": 2,
       "version_minor": 0
      },
      "text/plain": [
       "preparing dataframe:   0%|          | 0/12553 [00:00<?, ?it/s]"
      ]
     },
     "metadata": {},
     "output_type": "display_data"
    },
    {
     "data": {
      "application/vnd.jupyter.widget-view+json": {
       "model_id": "af17965c7bd54d6abb835842ef0f4543",
       "version_major": 2,
       "version_minor": 0
      },
      "text/plain": [
       "generating window:   0%|          | 0/12553 [00:00<?, ?it/s]"
      ]
     },
     "metadata": {},
     "output_type": "display_data"
    },
    {
     "data": {
      "application/vnd.jupyter.widget-view+json": {
       "model_id": "b72b930c519b4a13b0656d6e5f776eea",
       "version_major": 2,
       "version_minor": 0
      },
      "text/plain": [
       "preparing dataframe:   0%|          | 0/12553 [00:00<?, ?it/s]"
      ]
     },
     "metadata": {},
     "output_type": "display_data"
    },
    {
     "data": {
      "application/vnd.jupyter.widget-view+json": {
       "model_id": "dd3104cecdbb46d9b4e86a0ef07cd0da",
       "version_major": 2,
       "version_minor": 0
      },
      "text/plain": [
       "generating window:   0%|          | 0/12554 [00:00<?, ?it/s]"
      ]
     },
     "metadata": {},
     "output_type": "display_data"
    },
    {
     "data": {
      "application/vnd.jupyter.widget-view+json": {
       "model_id": "c87ffdd3f9514ee18806e2110586447d",
       "version_major": 2,
       "version_minor": 0
      },
      "text/plain": [
       "preparing dataframe:   0%|          | 0/12554 [00:00<?, ?it/s]"
      ]
     },
     "metadata": {},
     "output_type": "display_data"
    },
    {
     "data": {
      "application/vnd.jupyter.widget-view+json": {
       "model_id": "0ad0f4fc27a44def88df9aba9ade93f2",
       "version_major": 2,
       "version_minor": 0
      },
      "text/plain": [
       "Preparing Y Columns::   0%|          | 0/2 [00:00<?, ?it/s]"
      ]
     },
     "metadata": {},
     "output_type": "display_data"
    },
    {
     "data": {
      "application/vnd.jupyter.widget-view+json": {
       "model_id": "ef8aa8efcfdf4f118a96c09173bc3138",
       "version_major": 2,
       "version_minor": 0
      },
      "text/plain": [
       "generating window:   0%|          | 0/12554 [00:00<?, ?it/s]"
      ]
     },
     "metadata": {},
     "output_type": "display_data"
    },
    {
     "data": {
      "application/vnd.jupyter.widget-view+json": {
       "model_id": "4ae45b2699fa4b898f31d16791cbb585",
       "version_major": 2,
       "version_minor": 0
      },
      "text/plain": [
       "preparing dataframe:   0%|          | 0/12554 [00:00<?, ?it/s]"
      ]
     },
     "metadata": {},
     "output_type": "display_data"
    },
    {
     "data": {
      "application/vnd.jupyter.widget-view+json": {
       "model_id": "cd23222a13b8452087818fbfd7d9fb87",
       "version_major": 2,
       "version_minor": 0
      },
      "text/plain": [
       "generating window:   0%|          | 0/12554 [00:00<?, ?it/s]"
      ]
     },
     "metadata": {},
     "output_type": "display_data"
    },
    {
     "data": {
      "application/vnd.jupyter.widget-view+json": {
       "model_id": "95de5f74a3de4b1aa9c4e3576c0d4449",
       "version_major": 2,
       "version_minor": 0
      },
      "text/plain": [
       "preparing dataframe:   0%|          | 0/12554 [00:00<?, ?it/s]"
      ]
     },
     "metadata": {},
     "output_type": "display_data"
    },
    {
     "data": {
      "application/vnd.jupyter.widget-view+json": {
       "model_id": "84655144ae984f39b833af3bd483d818",
       "version_major": 2,
       "version_minor": 0
      },
      "text/plain": [
       "generating window:   0%|          | 0/12554 [00:00<?, ?it/s]"
      ]
     },
     "metadata": {},
     "output_type": "display_data"
    },
    {
     "data": {
      "application/vnd.jupyter.widget-view+json": {
       "model_id": "b9454af94d4146e992a71d1990308bb3",
       "version_major": 2,
       "version_minor": 0
      },
      "text/plain": [
       "preparing dataframe:   0%|          | 0/12554 [00:00<?, ?it/s]"
      ]
     },
     "metadata": {},
     "output_type": "display_data"
    },
    {
     "data": {
      "application/vnd.jupyter.widget-view+json": {
       "model_id": "f8f353a0a960487aa52bd6f404c1645c",
       "version_major": 2,
       "version_minor": 0
      },
      "text/plain": [
       "Preparing Y Columns::   0%|          | 0/2 [00:00<?, ?it/s]"
      ]
     },
     "metadata": {},
     "output_type": "display_data"
    },
    {
     "data": {
      "application/vnd.jupyter.widget-view+json": {
       "model_id": "727c52009cfe4cba873393a5a13ce58c",
       "version_major": 2,
       "version_minor": 0
      },
      "text/plain": [
       "generating window:   0%|          | 0/12554 [00:00<?, ?it/s]"
      ]
     },
     "metadata": {},
     "output_type": "display_data"
    },
    {
     "data": {
      "application/vnd.jupyter.widget-view+json": {
       "model_id": "70ec376379d54da1ae3c45115d37ea78",
       "version_major": 2,
       "version_minor": 0
      },
      "text/plain": [
       "preparing dataframe:   0%|          | 0/12554 [00:00<?, ?it/s]"
      ]
     },
     "metadata": {},
     "output_type": "display_data"
    },
    {
     "data": {
      "application/vnd.jupyter.widget-view+json": {
       "model_id": "879c862b90e74f92b10c890d6b5411c7",
       "version_major": 2,
       "version_minor": 0
      },
      "text/plain": [
       "generating window:   0%|          | 0/12554 [00:00<?, ?it/s]"
      ]
     },
     "metadata": {},
     "output_type": "display_data"
    },
    {
     "data": {
      "application/vnd.jupyter.widget-view+json": {
       "model_id": "27014dba4bd24687b87c73ff890af101",
       "version_major": 2,
       "version_minor": 0
      },
      "text/plain": [
       "preparing dataframe:   0%|          | 0/12554 [00:00<?, ?it/s]"
      ]
     },
     "metadata": {},
     "output_type": "display_data"
    },
    {
     "data": {
      "application/vnd.jupyter.widget-view+json": {
       "model_id": "a233fcdd747a4d62b04ab6a7033cd0ae",
       "version_major": 2,
       "version_minor": 0
      },
      "text/plain": [
       "generating window:   0%|          | 0/12553 [00:00<?, ?it/s]"
      ]
     },
     "metadata": {},
     "output_type": "display_data"
    },
    {
     "data": {
      "application/vnd.jupyter.widget-view+json": {
       "model_id": "3ea0a1ee7cad4d8382227a4abfdb1206",
       "version_major": 2,
       "version_minor": 0
      },
      "text/plain": [
       "preparing dataframe:   0%|          | 0/12553 [00:00<?, ?it/s]"
      ]
     },
     "metadata": {},
     "output_type": "display_data"
    },
    {
     "data": {
      "application/vnd.jupyter.widget-view+json": {
       "model_id": "252e3264020943739e02cb0ad1042106",
       "version_major": 2,
       "version_minor": 0
      },
      "text/plain": [
       "Preparing Y Columns::   0%|          | 0/2 [00:00<?, ?it/s]"
      ]
     },
     "metadata": {},
     "output_type": "display_data"
    },
    {
     "data": {
      "application/vnd.jupyter.widget-view+json": {
       "model_id": "fdb4d3fe05c5442582c9d37546270aed",
       "version_major": 2,
       "version_minor": 0
      },
      "text/plain": [
       "generating window:   0%|          | 0/12553 [00:00<?, ?it/s]"
      ]
     },
     "metadata": {},
     "output_type": "display_data"
    },
    {
     "data": {
      "application/vnd.jupyter.widget-view+json": {
       "model_id": "3d5bad2869e74893ad6f2d84460684fe",
       "version_major": 2,
       "version_minor": 0
      },
      "text/plain": [
       "preparing dataframe:   0%|          | 0/12553 [00:00<?, ?it/s]"
      ]
     },
     "metadata": {},
     "output_type": "display_data"
    },
    {
     "data": {
      "application/vnd.jupyter.widget-view+json": {
       "model_id": "2f7151a3473a408c8668b1d46a792099",
       "version_major": 2,
       "version_minor": 0
      },
      "text/plain": [
       "generating window:   0%|          | 0/12553 [00:00<?, ?it/s]"
      ]
     },
     "metadata": {},
     "output_type": "display_data"
    },
    {
     "data": {
      "application/vnd.jupyter.widget-view+json": {
       "model_id": "c717b20b3710494f89ad1c09c393c70b",
       "version_major": 2,
       "version_minor": 0
      },
      "text/plain": [
       "preparing dataframe:   0%|          | 0/12553 [00:00<?, ?it/s]"
      ]
     },
     "metadata": {},
     "output_type": "display_data"
    },
    {
     "data": {
      "application/vnd.jupyter.widget-view+json": {
       "model_id": "d61090fc627a405dbe18959836c319ce",
       "version_major": 2,
       "version_minor": 0
      },
      "text/plain": [
       "generating window:   0%|          | 0/12553 [00:00<?, ?it/s]"
      ]
     },
     "metadata": {},
     "output_type": "display_data"
    },
    {
     "data": {
      "application/vnd.jupyter.widget-view+json": {
       "model_id": "6446328b9ff5405ba68889fee2bef832",
       "version_major": 2,
       "version_minor": 0
      },
      "text/plain": [
       "preparing dataframe:   0%|          | 0/12553 [00:00<?, ?it/s]"
      ]
     },
     "metadata": {},
     "output_type": "display_data"
    },
    {
     "data": {
      "application/vnd.jupyter.widget-view+json": {
       "model_id": "c85bee5b1e0d4cb986050851bc85096a",
       "version_major": 2,
       "version_minor": 0
      },
      "text/plain": [
       "Preparing Y Columns::   0%|          | 0/2 [00:00<?, ?it/s]"
      ]
     },
     "metadata": {},
     "output_type": "display_data"
    },
    {
     "data": {
      "application/vnd.jupyter.widget-view+json": {
       "model_id": "8e94599d17394c2d87593502772e67e1",
       "version_major": 2,
       "version_minor": 0
      },
      "text/plain": [
       "generating window:   0%|          | 0/12553 [00:00<?, ?it/s]"
      ]
     },
     "metadata": {},
     "output_type": "display_data"
    },
    {
     "data": {
      "application/vnd.jupyter.widget-view+json": {
       "model_id": "25e455614e5d4f08a6360640db80f366",
       "version_major": 2,
       "version_minor": 0
      },
      "text/plain": [
       "preparing dataframe:   0%|          | 0/12553 [00:00<?, ?it/s]"
      ]
     },
     "metadata": {},
     "output_type": "display_data"
    },
    {
     "data": {
      "application/vnd.jupyter.widget-view+json": {
       "model_id": "924c5e13a6b14b33929df0957fb5c266",
       "version_major": 2,
       "version_minor": 0
      },
      "text/plain": [
       "generating window:   0%|          | 0/12553 [00:00<?, ?it/s]"
      ]
     },
     "metadata": {},
     "output_type": "display_data"
    },
    {
     "data": {
      "application/vnd.jupyter.widget-view+json": {
       "model_id": "48c34a47738746d0b4c587f5ed583942",
       "version_major": 2,
       "version_minor": 0
      },
      "text/plain": [
       "preparing dataframe:   0%|          | 0/12553 [00:00<?, ?it/s]"
      ]
     },
     "metadata": {},
     "output_type": "display_data"
    },
    {
     "data": {
      "application/vnd.jupyter.widget-view+json": {
       "model_id": "66c0f1d3a771419288f1aea9d5cadef1",
       "version_major": 2,
       "version_minor": 0
      },
      "text/plain": [
       "generating window:   0%|          | 0/12553 [00:00<?, ?it/s]"
      ]
     },
     "metadata": {},
     "output_type": "display_data"
    },
    {
     "data": {
      "application/vnd.jupyter.widget-view+json": {
       "model_id": "831a1863a2674a67a523b599f63e115d",
       "version_major": 2,
       "version_minor": 0
      },
      "text/plain": [
       "preparing dataframe:   0%|          | 0/12553 [00:00<?, ?it/s]"
      ]
     },
     "metadata": {},
     "output_type": "display_data"
    },
    {
     "data": {
      "application/vnd.jupyter.widget-view+json": {
       "model_id": "bbd9c7ca4e7b4b67a4c6d1cdfe96cf58",
       "version_major": 2,
       "version_minor": 0
      },
      "text/plain": [
       "Preparing Y Columns::   0%|          | 0/2 [00:00<?, ?it/s]"
      ]
     },
     "metadata": {},
     "output_type": "display_data"
    },
    {
     "data": {
      "application/vnd.jupyter.widget-view+json": {
       "model_id": "9fb9ce44c4a14c11b6565d47a83b0189",
       "version_major": 2,
       "version_minor": 0
      },
      "text/plain": [
       "generating window:   0%|          | 0/12553 [00:00<?, ?it/s]"
      ]
     },
     "metadata": {},
     "output_type": "display_data"
    },
    {
     "data": {
      "application/vnd.jupyter.widget-view+json": {
       "model_id": "dcd7aef6a14a4f29bfaff86e39966f84",
       "version_major": 2,
       "version_minor": 0
      },
      "text/plain": [
       "preparing dataframe:   0%|          | 0/12553 [00:00<?, ?it/s]"
      ]
     },
     "metadata": {},
     "output_type": "display_data"
    },
    {
     "data": {
      "application/vnd.jupyter.widget-view+json": {
       "model_id": "08662e6dd7674950b49180961ea31b8f",
       "version_major": 2,
       "version_minor": 0
      },
      "text/plain": [
       "generating window:   0%|          | 0/12553 [00:00<?, ?it/s]"
      ]
     },
     "metadata": {},
     "output_type": "display_data"
    },
    {
     "data": {
      "application/vnd.jupyter.widget-view+json": {
       "model_id": "9319f4c59a494d7bbeb3c9b4daac6757",
       "version_major": 2,
       "version_minor": 0
      },
      "text/plain": [
       "preparing dataframe:   0%|          | 0/12553 [00:00<?, ?it/s]"
      ]
     },
     "metadata": {},
     "output_type": "display_data"
    },
    {
     "data": {
      "application/vnd.jupyter.widget-view+json": {
       "model_id": "c6768fcff80b480e9acc1a524cc821a6",
       "version_major": 2,
       "version_minor": 0
      },
      "text/plain": [
       "generating window:   0%|          | 0/12553 [00:00<?, ?it/s]"
      ]
     },
     "metadata": {},
     "output_type": "display_data"
    },
    {
     "data": {
      "application/vnd.jupyter.widget-view+json": {
       "model_id": "6385a3b601c64a33bde022af8032eb35",
       "version_major": 2,
       "version_minor": 0
      },
      "text/plain": [
       "preparing dataframe:   0%|          | 0/12553 [00:00<?, ?it/s]"
      ]
     },
     "metadata": {},
     "output_type": "display_data"
    },
    {
     "data": {
      "application/vnd.jupyter.widget-view+json": {
       "model_id": "d17c6ec713a544aea66957a51393dc3d",
       "version_major": 2,
       "version_minor": 0
      },
      "text/plain": [
       "Preparing Y Columns::   0%|          | 0/2 [00:00<?, ?it/s]"
      ]
     },
     "metadata": {},
     "output_type": "display_data"
    },
    {
     "data": {
      "application/vnd.jupyter.widget-view+json": {
       "model_id": "ce64fab1533f445fbfe726ce6ff7d40b",
       "version_major": 2,
       "version_minor": 0
      },
      "text/plain": [
       "generating window:   0%|          | 0/12553 [00:00<?, ?it/s]"
      ]
     },
     "metadata": {},
     "output_type": "display_data"
    },
    {
     "data": {
      "application/vnd.jupyter.widget-view+json": {
       "model_id": "18c698c951cd48669483ebfe4ce0ac03",
       "version_major": 2,
       "version_minor": 0
      },
      "text/plain": [
       "preparing dataframe:   0%|          | 0/12553 [00:00<?, ?it/s]"
      ]
     },
     "metadata": {},
     "output_type": "display_data"
    },
    {
     "data": {
      "application/vnd.jupyter.widget-view+json": {
       "model_id": "b1b20356db1542d1b564f79a6fad17ec",
       "version_major": 2,
       "version_minor": 0
      },
      "text/plain": [
       "generating window:   0%|          | 0/12553 [00:00<?, ?it/s]"
      ]
     },
     "metadata": {},
     "output_type": "display_data"
    },
    {
     "data": {
      "application/vnd.jupyter.widget-view+json": {
       "model_id": "26b29a8824f74755b4eebdbe391b6027",
       "version_major": 2,
       "version_minor": 0
      },
      "text/plain": [
       "preparing dataframe:   0%|          | 0/12553 [00:00<?, ?it/s]"
      ]
     },
     "metadata": {},
     "output_type": "display_data"
    }
   ],
   "source": [
    "os.makedirs(\"../windowed_data/\",exist_ok=True)\n",
    "\n",
    "for i in tqdm(range(1,31)):\n",
    "    data = pd.read_csv(f\"../preprocessed_data/sub_{i}.csv\")\n",
    "    data = data[data[\"video\"].isin([5,6,7,8])]\n",
    "    windows = prepare_windows_with_labels(data,y_aggregator=lambda x: x.mean(), window_size=100, window_gap=1)\n",
    "    \n",
    "    windows.to_csv(f\"../windowed_data/sub_{i}.csv\",index=False)\n",
    "\n",
    "    "
   ]
  },
  {
   "cell_type": "code",
   "execution_count": null,
   "metadata": {},
   "outputs": [],
   "source": []
  }
 ],
 "metadata": {
  "kernelspec": {
   "display_name": "env",
   "language": "python",
   "name": "python3"
  },
  "language_info": {
   "codemirror_mode": {
    "name": "ipython",
    "version": 3
   },
   "file_extension": ".py",
   "mimetype": "text/x-python",
   "name": "python",
   "nbconvert_exporter": "python",
   "pygments_lexer": "ipython3",
   "version": "3.11.2"
  }
 },
 "nbformat": 4,
 "nbformat_minor": 2
}
