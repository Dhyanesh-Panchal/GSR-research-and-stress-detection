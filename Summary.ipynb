{
 "cells": [
  {
   "cell_type": "markdown",
   "metadata": {},
   "source": [
    "# Summary for preprocessing of the Data."
   ]
  },
  {
   "cell_type": "markdown",
   "metadata": {},
   "source": [
    "## Based on FULLTEXT03.pdf paper\n",
    "\n",
    "- GSR data is a time series data.\n",
    "\n",
    "#### CASE Dataset description:\n",
    "- [CASE_2019](https://springernature.figshare.com/articles/dataset/CASE_Dataset-full/8869157?backTo=/collections/A_dataset_of_continuous_affect_annotations_and_physiological_signals_for_emotion_analysis/4260668) is collected on 30 subjects with various sensors (one of them is GSR) on 12 different videos.\n",
    "- Data is available in linearly interpolated and raw form.\n",
    "- Sensor data is of 1000 Hz and annotation data (Valence Arousal) is of 20Hz\n"
   ]
  },
  {
   "cell_type": "markdown",
   "metadata": {},
   "source": [
    "---\n",
    "### Insights on GSR Sensor and EDA\n",
    "- It measures the EDA activities, i.e. it measures the Skin Conductance(μS) which is directly influenced by dermal(sweat) activities.\n",
    "- GSR is one of the sensors usually used with other physiological sensors due to its insufficient data provision on valance level.\n",
    "- Simply, it provides data related to sensitivity/intensity of the emotion rather than taste of the emotion.\n",
    "- But the paper suggests that GSR alone can provide up to 99.44% accuracy for (happy-sad classification).  "
   ]
  },
  {
   "cell_type": "markdown",
   "metadata": {},
   "source": [
    "---\n",
    "### Model used and Features required from the data\n",
    "- Convolutional Neural Network(CNN) is used for classifying.\n",
    "- Our Labels (valence-arousal) are also classified using 1d K-means.  (Mapping Function pg.no:22)\n",
    "- **Features of GSR Signal**:\n",
    "    - There are two components derived from the GSR signals: tonic that is related to the slow changes and phasic connected to the rapid change\n",
    "    1. *Phasic Component*:\n",
    "        - It is related to Fast changes of the data.\n",
    "        - The phasic component is responsible for *skin conductance responses (SCRs)*, which are relatively fast variations in the GSR signal (order of seconds).\n",
    "        - SCRs are the fast changes or peaks that can be seen.\n",
    "            - SCRs can be divided into two:\n",
    "                1.  event-related SCR (ER-SCR)\n",
    "                2.  non-specific SCR (NS-SCR).\n",
    "            - ER-SCRs can be created in reaction to a specific event and they are the most frequent measure for relating changes in emotional arousal to particular stimuli in researches.\n",
    "            - *The apparent variation in ER-SCRs is SCR peaks that happen between 1 and 5 seconds after emotional stimuli begin.*\n",
    "    2. *Tonic Component*:\n",
    "        - The tonic component in a GSR signal is typically considered to be the background level of activity on top of which fast GSR responses emerge.\n",
    "        - Individuals' baseline tonic levels vary greatly, often ranging from 2µS to 20µS.\n",
    "\n",
    "\n",
    "- Also for the destructuring of the faetures from the Time-Series, Wavelet transform is a key technique, which I tried to explore and honestly got lost :)\n",
    "- My Notes on **Continous Wavelet Transform(CWT)** is in [Notes.ipynb](./Notes.ipynb)"
   ]
  },
  {
   "cell_type": "markdown",
   "metadata": {},
   "source": [
    "#### Training phase\n",
    "- The CNN network is a 5-layer network that includes three packed Convolution-Max-Pooling layers and two Dense layers at the end that are the layer of outputs.\n",
    "- In total 5 inputs are given to CNN model:\n",
    "    1. Deconstructed phasic GSR\n",
    "    2. Continous Wavelet Transform (CWT) using ricker (Mexican Hat wavelet).\n",
    "    3. Spectral Flux (not explored yet)\n",
    "    4. Stastical Features:\n",
    "        - Mean\n",
    "        - Variance\n",
    "        - Skewness\n",
    "        - Kurtosis\n",
    "    5. Time Series Responce (not explored yet).\n",
    "- Output is 2 values: Valence-Arousal."
   ]
  },
  {
   "cell_type": "markdown",
   "metadata": {},
   "source": [
    "---\n",
    "This was the very concise summary of that paper, and I talked with jigna ma'am on same.\n",
    "She told me that we dont need to find the features by our selves rather use existing kits/libraries such as neurokit, etc.\n",
    "I found one called *pyeda* but not explored in detail yet.\n",
    "\n",
    "Main Objective she gave was to explore more on Phasic and Tonic Component extractions and also its subparts and EDA in general.\n",
    "\n",
    "Thank for reading :)"
   ]
  }
 ],
 "metadata": {
  "language_info": {
   "name": "python"
  }
 },
 "nbformat": 4,
 "nbformat_minor": 2
}
